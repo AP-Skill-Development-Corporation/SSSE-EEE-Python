{
 "cells": [
  {
   "cell_type": "code",
   "execution_count": 9,
   "id": "cb2ee121",
   "metadata": {},
   "outputs": [
    {
     "name": "stdout",
     "output_type": "stream",
     "text": [
      "3562\n",
      "Entered Number is: 3562\n",
      "Reverse of 3562 is: 2653\n",
      "Squaring of 2653 digits is: 925364\n"
     ]
    }
   ],
   "source": [
    "n = int(input())\n",
    "k,z,h,s,y = 0,0,n,'',0\n",
    "print(f\"Entered Number is: {n}\")\n",
    "while n!=0:\n",
    "    k = k*10+n%10\n",
    "    n//=10\n",
    "print(f\"Reverse of {h} is: {k}\")\n",
    "q = k\n",
    "while q!=0:\n",
    "    y = q%10\n",
    "    s = s+str(y**2)\n",
    "    q//=10\n",
    "print(f\"Squaring of {k} digits is: {s}\")"
   ]
  },
  {
   "cell_type": "code",
   "execution_count": 7,
   "id": "134a2c9e",
   "metadata": {},
   "outputs": [
    {
     "name": "stdout",
     "output_type": "stream",
     "text": [
      "16142564\n"
     ]
    }
   ],
   "source": [
    "q = 85214\n",
    "s = ''\n",
    "y = 0\n",
    "while q!=0:\n",
    "    y = (q%10)**2\n",
    "    s = s+str(y)\n",
    "    q//=10\n",
    "print(s)"
   ]
  },
  {
   "cell_type": "code",
   "execution_count": 13,
   "id": "c04e6539",
   "metadata": {},
   "outputs": [
    {
     "name": "stdout",
     "output_type": "stream",
     "text": [
      "Enter ASCII Value: 95\n",
      "ASCII Value of 95 and its Character is: _\n"
     ]
    }
   ],
   "source": [
    "k = int(input(\"Enter ASCII Value: \"))\n",
    "print(f\"ASCII Value of {k} and its Character is: {chr(k)}\")"
   ]
  },
  {
   "cell_type": "code",
   "execution_count": 15,
   "id": "23eeeaa1",
   "metadata": {},
   "outputs": [
    {
     "name": "stdout",
     "output_type": "stream",
     "text": [
      "Enter a Character: Z\n",
      "Character of Z and its ASCII Value is: 90\n"
     ]
    }
   ],
   "source": [
    "z = input(\"Enter a Character: \")\n",
    "print(f\"Character of {z} and its ASCII Value is: {ord(z)}\")"
   ]
  },
  {
   "cell_type": "code",
   "execution_count": 22,
   "id": "b74308c3",
   "metadata": {},
   "outputs": [
    {
     "name": "stdout",
     "output_type": "stream",
     "text": [
      "0 => \u0000 1 => \u0001 2 => \u0002 3 => \u0003 4 => \u0004 5 => \u0005 6 => \u0006 7 => \u0007 8 => \b 9 => \t 10 => \n",
      " 11 => \u000b",
      " 12 => \f",
      " 13 => \r",
      " 14 => \u000e 15 => \u000f 16 => \u0010 17 => \u0011 18 => \u0012 19 => \u0013 20 => \u0014 21 => \u0015 22 => \u0016 23 => \u0017 24 => \u0018 25 => \u0019 26 => \u001a 27 => \u001b 28 => \u001c",
      " 29 => \u001d",
      " 30 => \u001e",
      " 31 => \u001f 32 =>   33 => ! 34 => \" 35 => # 36 => $ 37 => % 38 => & 39 => ' 40 => ( 41 => ) 42 => * 43 => + 44 => , 45 => - 46 => . 47 => / 48 => 0 49 => 1 50 => 2 51 => 3 52 => 4 53 => 5 54 => 6 55 => 7 56 => 8 57 => 9 58 => : 59 => ; 60 => < 61 => = 62 => > 63 => ? 64 => @ 65 => A 66 => B 67 => C 68 => D 69 => E 70 => F 71 => G 72 => H 73 => I 74 => J 75 => K 76 => L 77 => M 78 => N 79 => O 80 => P 81 => Q 82 => R 83 => S 84 => T 85 => U 86 => V 87 => W 88 => X 89 => Y 90 => Z 91 => [ 92 => \\ 93 => ] 94 => ^ 95 => _ 96 => ` 97 => a 98 => b 99 => c 100 => d 101 => e 102 => f 103 => g 104 => h 105 => i 106 => j 107 => k 108 => l 109 => m 110 => n 111 => o 112 => p 113 => q 114 => r 115 => s 116 => t 117 => u 118 => v 119 => w 120 => x 121 => y 122 => z 123 => { 124 => | 125 => } 126 => ~ 127 =>  128 =>  129 =>  130 =>  131 =>  132 =>  133 => ",
      " 134 =>  135 =>  136 =>  137 =>  138 =>  139 =>  140 =>  141 =>  142 =>  143 =>  144 =>  145 =>  146 =>  147 =>  148 =>  149 =>  150 =>  151 =>  152 =>  153 =>  154 =>  155 =>  156 =>  157 =>  158 =>  159 =>  160 =>   161 => ¡ 162 => ¢ 163 => £ 164 => ¤ 165 => ¥ 166 => ¦ 167 => § 168 => ¨ 169 => © 170 => ª 171 => « 172 => ¬ 173 => ­ 174 => ® 175 => ¯ 176 => ° 177 => ± 178 => ² 179 => ³ 180 => ´ 181 => µ 182 => ¶ 183 => · 184 => ¸ 185 => ¹ 186 => º 187 => » 188 => ¼ 189 => ½ 190 => ¾ 191 => ¿ 192 => À 193 => Á 194 => Â 195 => Ã 196 => Ä 197 => Å 198 => Æ 199 => Ç 200 => È 201 => É 202 => Ê 203 => Ë 204 => Ì 205 => Í 206 => Î 207 => Ï 208 => Ð 209 => Ñ 210 => Ò 211 => Ó 212 => Ô 213 => Õ 214 => Ö 215 => × 216 => Ø 217 => Ù 218 => Ú 219 => Û 220 => Ü 221 => Ý 222 => Þ 223 => ß 224 => à 225 => á 226 => â 227 => ã 228 => ä 229 => å 230 => æ 231 => ç 232 => è 233 => é 234 => ê 235 => ë 236 => ì 237 => í 238 => î 239 => ï 240 => ð 241 => ñ 242 => ò 243 => ó 244 => ô 245 => õ 246 => ö 247 => ÷ 248 => ø 249 => ù 250 => ú 251 => û 252 => ü 253 => ý 254 => þ 255 => ÿ "
     ]
    }
   ],
   "source": [
    "for i in range(256):\n",
    "    print(f\"{i} => {chr(i)}\",end=\" \")"
   ]
  },
  {
   "cell_type": "markdown",
   "id": "289490af",
   "metadata": {},
   "source": [
    "```\n",
    "    01 02 03 04 05 06 07\n",
    "    08 09 10 11 12 13 14\n",
    "    15 16 17 18 19 20 21\n",
    "    22 23 24 25 26 27 28\n",
    "    29 30 31\n",
    "```"
   ]
  },
  {
   "cell_type": "code",
   "execution_count": 32,
   "id": "d1045e1b",
   "metadata": {},
   "outputs": [
    {
     "name": "stdout",
     "output_type": "stream",
     "text": [
      "() [] $$ [] () [] () \n",
      "## ## $$ ## ## ## ## \n",
      "** [] $$ [] () [] ** \n",
      "[] && $$ && [] ** [] \n",
      "&& [] $$ \n"
     ]
    }
   ],
   "source": [
    "w = 1\n",
    "for i in range(5):\n",
    "    for j in range(7):\n",
    "        if w>31:\n",
    "            break\n",
    "        else:\n",
    "            if j == 2:\n",
    "                print(\"$$\",end=\" \")\n",
    "            elif i == 1:\n",
    "                print(\"##\",end=\" \")\n",
    "            elif w%2==0:\n",
    "                print(\"[]\",end=\" \")\n",
    "            elif w%3==0:\n",
    "                print(\"**\",end=\" \")\n",
    "            elif w<20:\n",
    "                print(\"()\",end=\" \")\n",
    "            else:\n",
    "                print(\"&&\",end=\" \")\n",
    "        w+=1\n",
    "    print()"
   ]
  },
  {
   "cell_type": "markdown",
   "id": "5e010f16",
   "metadata": {},
   "source": [
    "## Functions:\n",
    "    - To perform a specific task\n",
    "    - User Defined => User Need to implement the task\n",
    "    - Predefined => Already the task is fixed\n",
    "    Syntax:\n",
    "        def functionname(arguments):\n",
    "            //statements\n",
    "            return return_value"
   ]
  },
  {
   "cell_type": "markdown",
   "id": "f8af8641",
   "metadata": {},
   "source": [
    "## User Defined Functions:\n",
    "    - With return_type and with arguments\n",
    "    - With return_type and without arguments\n",
    "    - Without return_type and with arguments\n",
    "    - Without return_type and without arguments\n",
    "    => Reading\n",
    "    => Printing\n",
    "    => Logic"
   ]
  },
  {
   "cell_type": "code",
   "execution_count": 35,
   "id": "211c925c",
   "metadata": {},
   "outputs": [
    {
     "name": "stdout",
     "output_type": "stream",
     "text": [
      "Enter a number: 45645\n",
      "Entered Number is: 45645\n",
      "Digit count for 45645 is: 5\n"
     ]
    }
   ],
   "source": [
    "# - With return_type and with arguments\n",
    "# Reading => Main\n",
    "# Printing => Main\n",
    "# Logic => Function\n",
    "\n",
    "def digtcont(k):\n",
    "    '''\n",
    "        To print digit count of a number\n",
    "    '''\n",
    "    dc = 0\n",
    "    while k!=0:\n",
    "        k//=10\n",
    "        dc += 1\n",
    "    return dc\n",
    "\n",
    "n = int(input(\"Enter a number: \"))\n",
    "print(f\"Entered Number is: {n}\")\n",
    "print(f\"Digit count for {n} is: {digtcont(n)}\")"
   ]
  },
  {
   "cell_type": "code",
   "execution_count": 36,
   "id": "ad1b18ec",
   "metadata": {},
   "outputs": [
    {
     "name": "stdout",
     "output_type": "stream",
     "text": [
      "\n",
      "        To print digit count of a number\n",
      "    \n"
     ]
    }
   ],
   "source": [
    "print(digtcont.__doc__)"
   ]
  },
  {
   "cell_type": "code",
   "execution_count": 37,
   "id": "e96ad78d",
   "metadata": {},
   "outputs": [
    {
     "name": "stdout",
     "output_type": "stream",
     "text": [
      "Help on function digtcont in module __main__:\n",
      "\n",
      "digtcont(k)\n",
      "    To print digit count of a number\n",
      "\n"
     ]
    }
   ],
   "source": [
    "help(digtcont)"
   ]
  },
  {
   "cell_type": "code",
   "execution_count": 38,
   "id": "59faae79",
   "metadata": {},
   "outputs": [
    {
     "name": "stdout",
     "output_type": "stream",
     "text": [
      "Enter a number: 1254\n",
      "Entered Number is: 1254 and its even digit sum is: 6\n"
     ]
    }
   ],
   "source": [
    "# - With return_type and without arguments\n",
    "# Reading => Function\n",
    "# Printing => Main\n",
    "# Logic => Function\n",
    "\n",
    "def esmdgts():\n",
    "    m = int(input(\"Enter a number: \"))\n",
    "    es = 0\n",
    "    print(f\"Entered Number is: {m} \" \n",
    "          \"and its even digit sum is: \",end=\"\")\n",
    "    while m!=0:\n",
    "        if (m%10)%2==0:\n",
    "            es += m%10\n",
    "        m//=10\n",
    "    return es\n",
    "\n",
    "print(esmdgts())"
   ]
  },
  {
   "cell_type": "code",
   "execution_count": 39,
   "id": "25f20c5a",
   "metadata": {},
   "outputs": [
    {
     "name": "stdout",
     "output_type": "stream",
     "text": [
      "Enter a number: 15296\n",
      "Entered number is: 15296 and its Odd numbers are: 9 5 1 "
     ]
    }
   ],
   "source": [
    "# - Without return_type and with arguments\n",
    "# Reading => Main\n",
    "# Printing => Function\n",
    "# Logic => Function\n",
    "\n",
    "def odnumbprnt(z):\n",
    "    while z!=0:\n",
    "        if (z%10)%2!=0:\n",
    "            print(z%10,end=\" \")\n",
    "        z//=10\n",
    "    return \n",
    "\n",
    "g = int(input(\"Enter a number: \"))\n",
    "print(f\"Entered number is: {g} and its Odd numbers are: \",end=\"\")\n",
    "odnumbprnt(g)"
   ]
  },
  {
   "cell_type": "code",
   "execution_count": 42,
   "id": "6f7a22ce",
   "metadata": {},
   "outputs": [
    {
     "name": "stdout",
     "output_type": "stream",
     "text": [
      "Enter a range: 10\n",
      "Sum of 10 Natural Numbers is: 55\n"
     ]
    }
   ],
   "source": [
    "# - Without return_type and without arguments\n",
    "# Reading => Function\n",
    "# Printing => Function\n",
    "# Logic => Function\n",
    "\n",
    "def smn():\n",
    "    w = 0\n",
    "    h = int(input(\"Enter a range: \"))\n",
    "    for i in range(1,h+1):\n",
    "        w+=i\n",
    "    print(f\"Sum of {h} Natural Numbers is: {w}\")\n",
    "    return\n",
    "\n",
    "smn()"
   ]
  },
  {
   "cell_type": "code",
   "execution_count": 44,
   "id": "bb68fefd",
   "metadata": {},
   "outputs": [
    {
     "name": "stdout",
     "output_type": "stream",
     "text": [
      "24\n",
      "Not Weird\n"
     ]
    }
   ],
   "source": [
    "n = int(input())\n",
    "if n%2==0:\n",
    "    if n>2 and n<5:\n",
    "        print(\"Not Weird\")\n",
    "    elif n>=6 and n<=20:\n",
    "        print(\"Weird\")\n",
    "    else:\n",
    "        print(\"Not Weird\")\n",
    "else:\n",
    "    print(\"Weird\")"
   ]
  },
  {
   "cell_type": "code",
   "execution_count": 47,
   "id": "210f8892",
   "metadata": {},
   "outputs": [
    {
     "name": "stdout",
     "output_type": "stream",
     "text": [
      "24\n",
      "Not Weird\n"
     ]
    }
   ],
   "source": [
    "n = int(input())\n",
    "if n%2==0 and n>2 and n<5:\n",
    "    print(\"Not Weird\")\n",
    "elif n%2==0 and n>=6 and n<=20:\n",
    "    print(\"Weird\")\n",
    "elif n%2==0 and n>20:\n",
    "    print(\"Not Weird\")\n",
    "else:\n",
    "    print(\"Weird\")"
   ]
  },
  {
   "cell_type": "code",
   "execution_count": null,
   "id": "8ded4599",
   "metadata": {},
   "outputs": [],
   "source": []
  }
 ],
 "metadata": {
  "kernelspec": {
   "display_name": "Python 3 (ipykernel)",
   "language": "python",
   "name": "python3"
  },
  "language_info": {
   "codemirror_mode": {
    "name": "ipython",
    "version": 3
   },
   "file_extension": ".py",
   "mimetype": "text/x-python",
   "name": "python",
   "nbconvert_exporter": "python",
   "pygments_lexer": "ipython3",
   "version": "3.9.13"
  }
 },
 "nbformat": 4,
 "nbformat_minor": 5
}
