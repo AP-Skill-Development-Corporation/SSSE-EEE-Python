{
 "cells": [
  {
   "cell_type": "markdown",
   "id": "90a19003",
   "metadata": {},
   "source": [
    "## Function Argument Types\n",
    "     - Default \n",
    "     - Keyword\n",
    "     - Required or Positional\n",
    "     - Variable Length\n",
    "         - Arbitary Keyword\n",
    "         - Arbitary Positional"
   ]
  },
  {
   "cell_type": "code",
   "execution_count": 2,
   "id": "ddda00b4",
   "metadata": {},
   "outputs": [
    {
     "name": "stdout",
     "output_type": "stream",
     "text": [
      "Enter Roll Number: we345\n",
      "Enter Name: Kiran\n",
      "Entered Roll Number is: we345\n",
      "Entered Name is: Kiran\n",
      "College Code is: SSE\n"
     ]
    }
   ],
   "source": [
    "## default Argument\n",
    "\n",
    "def student(q,w,clg=\"SSE\"):\n",
    "    print(f\"Entered Roll Number is: {q}\")\n",
    "    print(f\"Entered Name is: {w}\")\n",
    "    print(f\"College Code is: {clg}\")\n",
    "    return\n",
    "\n",
    "rol = input(\"Enter Roll Number: \")\n",
    "nm = input(\"Enter Name: \")\n",
    "student(rol,nm)"
   ]
  },
  {
   "cell_type": "code",
   "execution_count": 4,
   "id": "67cb6a1f",
   "metadata": {},
   "outputs": [
    {
     "name": "stdout",
     "output_type": "stream",
     "text": [
      "Enter Roll Number: j45\n",
      "Entered Roll Number is: j45\n",
      "Entered Name is: Lalitha\n",
      "College Code is: SSE\n"
     ]
    }
   ],
   "source": [
    "def student(q,w='Lalitha',clg=\"SSE\"):\n",
    "    print(f\"Entered Roll Number is: {q}\")\n",
    "    print(f\"Entered Name is: {w}\")\n",
    "    print(f\"College Code is: {clg}\")\n",
    "    return\n",
    "\n",
    "rol = input(\"Enter Roll Number: \")\n",
    "# nm = input(\"Enter Name: \")\n",
    "# student(rol,nm)\n",
    "student(rol)"
   ]
  },
  {
   "cell_type": "code",
   "execution_count": 5,
   "id": "e45b5e40",
   "metadata": {},
   "outputs": [
    {
     "name": "stdout",
     "output_type": "stream",
     "text": [
      "Entered Roll Number is: KE45\n",
      "Entered Name is: Suresh\n",
      "College Code is: SSE\n"
     ]
    }
   ],
   "source": [
    "def student(q='KE45',w='Suresh',clg=\"SSE\"):\n",
    "    print(f\"Entered Roll Number is: {q}\")\n",
    "    print(f\"Entered Name is: {w}\")\n",
    "    print(f\"College Code is: {clg}\")\n",
    "    return\n",
    "\n",
    "student()"
   ]
  },
  {
   "cell_type": "code",
   "execution_count": 6,
   "id": "e9f9fc63",
   "metadata": {},
   "outputs": [
    {
     "ename": "SyntaxError",
     "evalue": "non-default argument follows default argument (1646815268.py, line 1)",
     "output_type": "error",
     "traceback": [
      "\u001b[1;36m  Cell \u001b[1;32mIn[6], line 1\u001b[1;36m\u001b[0m\n\u001b[1;33m    def student(q='KE45',w,clg=\"SSE\"):\u001b[0m\n\u001b[1;37m                           ^\u001b[0m\n\u001b[1;31mSyntaxError\u001b[0m\u001b[1;31m:\u001b[0m non-default argument follows default argument\n"
     ]
    }
   ],
   "source": [
    "def student(q='KE45',w,clg=\"SSE\"):\n",
    "    print(f\"Entered Roll Number is: {q}\")\n",
    "    print(f\"Entered Name is: {w}\")\n",
    "    print(f\"College Code is: {clg}\")\n",
    "    return\n",
    "\n",
    "student()"
   ]
  },
  {
   "cell_type": "code",
   "execution_count": 8,
   "id": "515132a7",
   "metadata": {},
   "outputs": [
    {
     "name": "stdout",
     "output_type": "stream",
     "text": [
      "Enter Roll Number: W56\n",
      "Enter Name: Yamini\n",
      "Enter College Code: AITT\n",
      "Entered Roll Number is: W56\n",
      "Entered Name is: Yamini\n",
      "College Code is: AITT\n"
     ]
    }
   ],
   "source": [
    "def student(q='KE45',w='Suresh',clg=\"SSE\"):\n",
    "    print(f\"Entered Roll Number is: {q}\")\n",
    "    print(f\"Entered Name is: {w}\")\n",
    "    print(f\"College Code is: {clg}\")\n",
    "    return\n",
    "\n",
    "r = input(\"Enter Roll Number: \")\n",
    "n = input(\"Enter Name: \")\n",
    "c = input(\"Enter College Code: \")\n",
    "student(r,n,c)"
   ]
  },
  {
   "cell_type": "code",
   "execution_count": 10,
   "id": "3bc56b9f",
   "metadata": {},
   "outputs": [
    {
     "name": "stdout",
     "output_type": "stream",
     "text": [
      "Enter Employee Id: E34\n",
      "Enter Employee Name: Prasad\n"
     ]
    },
    {
     "ename": "TypeError",
     "evalue": "employee() missing 1 required positional argument: 'p'",
     "output_type": "error",
     "traceback": [
      "\u001b[1;31m---------------------------------------------------------------------------\u001b[0m",
      "\u001b[1;31mTypeError\u001b[0m                                 Traceback (most recent call last)",
      "Cell \u001b[1;32mIn[10], line 10\u001b[0m\n\u001b[0;32m      8\u001b[0m ed \u001b[38;5;241m=\u001b[39m \u001b[38;5;28minput\u001b[39m(\u001b[38;5;124m\"\u001b[39m\u001b[38;5;124mEnter Employee Id: \u001b[39m\u001b[38;5;124m\"\u001b[39m)\n\u001b[0;32m      9\u001b[0m ename \u001b[38;5;241m=\u001b[39m \u001b[38;5;28minput\u001b[39m(\u001b[38;5;124m\"\u001b[39m\u001b[38;5;124mEnter Employee Name: \u001b[39m\u001b[38;5;124m\"\u001b[39m)\n\u001b[1;32m---> 10\u001b[0m \u001b[43memployee\u001b[49m\u001b[43m(\u001b[49m\u001b[43med\u001b[49m\u001b[43m,\u001b[49m\u001b[43mename\u001b[49m\u001b[43m)\u001b[49m\n",
      "\u001b[1;31mTypeError\u001b[0m: employee() missing 1 required positional argument: 'p'"
     ]
    }
   ],
   "source": [
    "# Required or Positional Argument\n",
    "def employee(s,y,p):\n",
    "    print(f\"Employee Id is: {s}\")\n",
    "    print(f\"Employee Name is: {y}\")\n",
    "    print(f\"Employee Salary is: {p}\")\n",
    "    return\n",
    "\n",
    "ed = input(\"Enter Employee Id: \")\n",
    "ename = input(\"Enter Employee Name: \")\n",
    "employee(ed,ename)"
   ]
  },
  {
   "cell_type": "code",
   "execution_count": 11,
   "id": "ef04ac30",
   "metadata": {},
   "outputs": [
    {
     "name": "stdout",
     "output_type": "stream",
     "text": [
      "Enter Employee Id: E567\n",
      "Enter Employee Name: Kalyan\n",
      "Employee Id is: E567\n",
      "Employee Name is: Kalyan\n",
      "Employee Salary is: 25000\n"
     ]
    }
   ],
   "source": [
    "def employee(s,y,p=25000):\n",
    "    print(f\"Employee Id is: {s}\")\n",
    "    print(f\"Employee Name is: {y}\")\n",
    "    print(f\"Employee Salary is: {p}\")\n",
    "    return\n",
    "\n",
    "ed = input(\"Enter Employee Id: \")\n",
    "ename = input(\"Enter Employee Name: \")\n",
    "employee(ed,ename)"
   ]
  },
  {
   "cell_type": "code",
   "execution_count": 12,
   "id": "31e85995",
   "metadata": {},
   "outputs": [
    {
     "name": "stdout",
     "output_type": "stream",
     "text": [
      "Enter Employee Id: E3456\n",
      "Enter Employee Name: Harish\n",
      "Enter Employee Salary: 32000\n"
     ]
    },
    {
     "ename": "TypeError",
     "evalue": "employee() takes 2 positional arguments but 3 were given",
     "output_type": "error",
     "traceback": [
      "\u001b[1;31m---------------------------------------------------------------------------\u001b[0m",
      "\u001b[1;31mTypeError\u001b[0m                                 Traceback (most recent call last)",
      "Cell \u001b[1;32mIn[12], line 9\u001b[0m\n\u001b[0;32m      7\u001b[0m ename \u001b[38;5;241m=\u001b[39m \u001b[38;5;28minput\u001b[39m(\u001b[38;5;124m\"\u001b[39m\u001b[38;5;124mEnter Employee Name: \u001b[39m\u001b[38;5;124m\"\u001b[39m)\n\u001b[0;32m      8\u001b[0m esal \u001b[38;5;241m=\u001b[39m \u001b[38;5;28minput\u001b[39m(\u001b[38;5;124m\"\u001b[39m\u001b[38;5;124mEnter Employee Salary: \u001b[39m\u001b[38;5;124m\"\u001b[39m)\n\u001b[1;32m----> 9\u001b[0m \u001b[43memployee\u001b[49m\u001b[43m(\u001b[49m\u001b[43med\u001b[49m\u001b[43m,\u001b[49m\u001b[43mename\u001b[49m\u001b[43m,\u001b[49m\u001b[43mesal\u001b[49m\u001b[43m)\u001b[49m\n",
      "\u001b[1;31mTypeError\u001b[0m: employee() takes 2 positional arguments but 3 were given"
     ]
    }
   ],
   "source": [
    "def employee(s,y):\n",
    "    print(f\"Employee Id is: {s}\")\n",
    "    print(f\"Employee Name is: {y}\")\n",
    "    return\n",
    "\n",
    "ed = input(\"Enter Employee Id: \")\n",
    "ename = input(\"Enter Employee Name: \")\n",
    "esal = input(\"Enter Employee Salary: \")\n",
    "employee(ed,ename,esal)"
   ]
  },
  {
   "cell_type": "code",
   "execution_count": 13,
   "id": "dd0a2179",
   "metadata": {},
   "outputs": [
    {
     "name": "stdout",
     "output_type": "stream",
     "text": [
      "Enter Employee Id: W345\n",
      "Enter Employee Name: Prasanna\n",
      "Enter Salary: 45000\n",
      "Employee Id is: W345\n",
      "Employee Name is: Prasanna\n",
      "Employee Salary is: 45000\n"
     ]
    }
   ],
   "source": [
    "# Keyword Argument\n",
    "def employee(y,s,p):\n",
    "    print(f\"Employee Id is: {s}\")\n",
    "    print(f\"Employee Name is: {y}\")\n",
    "    print(f\"Employee Salary is: {p}\")\n",
    "    return\n",
    "\n",
    "ed = input(\"Enter Employee Id: \")\n",
    "ename = input(\"Enter Employee Name: \")\n",
    "q = input(\"Enter Salary: \")\n",
    "employee(s=ed,y=ename,p=q)"
   ]
  },
  {
   "cell_type": "code",
   "execution_count": 14,
   "id": "8f73681d",
   "metadata": {},
   "outputs": [
    {
     "name": "stdout",
     "output_type": "stream",
     "text": [
      "Enter Employee Id: Y45\n",
      "Enter Employee Name: Eswar\n",
      "Enter Salary: 12000\n"
     ]
    },
    {
     "ename": "TypeError",
     "evalue": "employee() got an unexpected keyword argument 'z'",
     "output_type": "error",
     "traceback": [
      "\u001b[1;31m---------------------------------------------------------------------------\u001b[0m",
      "\u001b[1;31mTypeError\u001b[0m                                 Traceback (most recent call last)",
      "Cell \u001b[1;32mIn[14], line 11\u001b[0m\n\u001b[0;32m      9\u001b[0m ename \u001b[38;5;241m=\u001b[39m \u001b[38;5;28minput\u001b[39m(\u001b[38;5;124m\"\u001b[39m\u001b[38;5;124mEnter Employee Name: \u001b[39m\u001b[38;5;124m\"\u001b[39m)\n\u001b[0;32m     10\u001b[0m q \u001b[38;5;241m=\u001b[39m \u001b[38;5;28minput\u001b[39m(\u001b[38;5;124m\"\u001b[39m\u001b[38;5;124mEnter Salary: \u001b[39m\u001b[38;5;124m\"\u001b[39m)\n\u001b[1;32m---> 11\u001b[0m \u001b[43memployee\u001b[49m\u001b[43m(\u001b[49m\u001b[43ms\u001b[49m\u001b[38;5;241;43m=\u001b[39;49m\u001b[43med\u001b[49m\u001b[43m,\u001b[49m\u001b[43my\u001b[49m\u001b[38;5;241;43m=\u001b[39;49m\u001b[43mename\u001b[49m\u001b[43m,\u001b[49m\u001b[43mz\u001b[49m\u001b[38;5;241;43m=\u001b[39;49m\u001b[43mq\u001b[49m\u001b[43m)\u001b[49m\n",
      "\u001b[1;31mTypeError\u001b[0m: employee() got an unexpected keyword argument 'z'"
     ]
    }
   ],
   "source": [
    "def employee(y,s,p):\n",
    "    print(f\"Employee Id is: {s}\")\n",
    "    print(f\"Employee Name is: {y}\")\n",
    "    print(f\"Employee Salary is: {p}\")\n",
    "    return\n",
    "\n",
    "ed = input(\"Enter Employee Id: \")\n",
    "ename = input(\"Enter Employee Name: \")\n",
    "q = input(\"Enter Salary: \")\n",
    "employee(s=ed,y=ename,z=q)"
   ]
  },
  {
   "cell_type": "code",
   "execution_count": 15,
   "id": "e4c177a0",
   "metadata": {},
   "outputs": [
    {
     "name": "stdout",
     "output_type": "stream",
     "text": [
      "Enter Employee Id: B3456\n",
      "Enter Employee Name: Bharath\n",
      "Employee Id is: B3456\n",
      "Employee Name is: Bharath\n",
      "Employee Salary is: 15000\n"
     ]
    }
   ],
   "source": [
    "def employee(y,s,p=15000):\n",
    "    print(f\"Employee Id is: {s}\")\n",
    "    print(f\"Employee Name is: {y}\")\n",
    "    print(f\"Employee Salary is: {p}\")\n",
    "    return\n",
    "\n",
    "ed = input(\"Enter Employee Id: \")\n",
    "ename = input(\"Enter Employee Name: \")\n",
    "employee(s=ed,y=ename)"
   ]
  },
  {
   "cell_type": "code",
   "execution_count": 16,
   "id": "3384ed86",
   "metadata": {},
   "outputs": [
    {
     "ename": "SyntaxError",
     "evalue": "non-default argument follows default argument (1760983998.py, line 1)",
     "output_type": "error",
     "traceback": [
      "\u001b[1;36m  Cell \u001b[1;32mIn[16], line 1\u001b[1;36m\u001b[0m\n\u001b[1;33m    def employee(y=\"Jagadeesh\",s,p):\u001b[0m\n\u001b[1;37m                                 ^\u001b[0m\n\u001b[1;31mSyntaxError\u001b[0m\u001b[1;31m:\u001b[0m non-default argument follows default argument\n"
     ]
    }
   ],
   "source": [
    "def employee(y=\"Jagadeesh\",s,p):\n",
    "    print(f\"Employee Id is: {s}\")\n",
    "    print(f\"Employee Name is: {y}\")\n",
    "    print(f\"Employee Salary is: {p}\")\n",
    "    return\n",
    "\n",
    "ed = input(\"Enter Employee Id: \")\n",
    "q = input(\"Enter Salary: \")\n",
    "employee(s=ed,p=q)"
   ]
  },
  {
   "cell_type": "code",
   "execution_count": 17,
   "id": "ec9effe6",
   "metadata": {},
   "outputs": [
    {
     "ename": "TypeError",
     "evalue": "qy() takes 1 positional argument but 6 were given",
     "output_type": "error",
     "traceback": [
      "\u001b[1;31m---------------------------------------------------------------------------\u001b[0m",
      "\u001b[1;31mTypeError\u001b[0m                                 Traceback (most recent call last)",
      "Cell \u001b[1;32mIn[17], line 7\u001b[0m\n\u001b[0;32m      4\u001b[0m     \u001b[38;5;28mprint\u001b[39m(z,\u001b[38;5;28mtype\u001b[39m(z))\n\u001b[0;32m      5\u001b[0m     \u001b[38;5;28;01mreturn\u001b[39;00m\n\u001b[1;32m----> 7\u001b[0m \u001b[43mqy\u001b[49m\u001b[43m(\u001b[49m\u001b[38;5;241;43m45\u001b[39;49m\u001b[43m,\u001b[49m\u001b[38;5;241;43m78\u001b[39;49m\u001b[43m,\u001b[49m\u001b[38;5;124;43m'\u001b[39;49m\u001b[38;5;124;43mBharath\u001b[39;49m\u001b[38;5;124;43m'\u001b[39;49m\u001b[43m,\u001b[49m\u001b[38;5;124;43m'\u001b[39;49m\u001b[38;5;124;43m45.000\u001b[39;49m\u001b[38;5;124;43m'\u001b[39;49m\u001b[43m,\u001b[49m\u001b[38;5;28;43;01mFalse\u001b[39;49;00m\u001b[43m,\u001b[49m\u001b[38;5;241;43m78\u001b[39;49m\u001b[43m)\u001b[49m\n",
      "\u001b[1;31mTypeError\u001b[0m: qy() takes 1 positional argument but 6 were given"
     ]
    }
   ],
   "source": [
    "# Variable Length Argument\n",
    "\n",
    "def qy(z):\n",
    "    print(z,type(z))\n",
    "    return\n",
    "\n",
    "qy(45,78,'Bharath','45.000',False,78)"
   ]
  },
  {
   "cell_type": "code",
   "execution_count": 18,
   "id": "9919addb",
   "metadata": {},
   "outputs": [
    {
     "name": "stdout",
     "output_type": "stream",
     "text": [
      "(45, 78, 'Bharath', '45.000', False, 78) <class 'tuple'>\n"
     ]
    }
   ],
   "source": [
    "def qy(*z):\n",
    "    print(z,type(z))\n",
    "    return\n",
    "\n",
    "qy(45,78,'Bharath','45.000',False,78)"
   ]
  },
  {
   "cell_type": "code",
   "execution_count": 19,
   "id": "b438da1b",
   "metadata": {},
   "outputs": [
    {
     "name": "stdout",
     "output_type": "stream",
     "text": [
      "45 <class 'int'>\n",
      "(78, 'Bharath', '45.000', False, 78) <class 'tuple'>\n"
     ]
    }
   ],
   "source": [
    "def qy(v,*z):\n",
    "    print(v,type(v))\n",
    "    print(z,type(z))\n",
    "    return\n",
    "\n",
    "qy(45,78,'Bharath','45.000',False,78)"
   ]
  },
  {
   "cell_type": "code",
   "execution_count": 20,
   "id": "00d9fd80",
   "metadata": {},
   "outputs": [
    {
     "name": "stdout",
     "output_type": "stream",
     "text": [
      "45 <class 'int'>\n",
      "(78, 'Bharath', '45.000', False, 78) <class 'tuple'>\n",
      "{'sno': 4, 'sname': 'Jyothi', 'syear': '2'} <class 'dict'>\n"
     ]
    }
   ],
   "source": [
    "def qy(v,*z,**w):\n",
    "    print(v,type(v))\n",
    "    print(z,type(z))\n",
    "    print(w,type(w))\n",
    "    return\n",
    "\n",
    "qy(45,78,'Bharath','45.000',False,78,sno=4,sname='Jyothi',syear='2')"
   ]
  },
  {
   "cell_type": "code",
   "execution_count": 21,
   "id": "4a72742d",
   "metadata": {},
   "outputs": [
    {
     "ename": "SyntaxError",
     "evalue": "positional argument follows keyword argument (1926118003.py, line 7)",
     "output_type": "error",
     "traceback": [
      "\u001b[1;36m  Cell \u001b[1;32mIn[21], line 7\u001b[1;36m\u001b[0m\n\u001b[1;33m    qy(45,sno=4,78,'Bharath','45.000',False,78,sname='Jyothi',syear='2')\u001b[0m\n\u001b[1;37m                                                                       ^\u001b[0m\n\u001b[1;31mSyntaxError\u001b[0m\u001b[1;31m:\u001b[0m positional argument follows keyword argument\n"
     ]
    }
   ],
   "source": [
    "def qy(v,*z,**w):\n",
    "    print(v,type(v))\n",
    "    print(z,type(z))\n",
    "    print(w,type(w))\n",
    "    return\n",
    "\n",
    "qy(45,sno=4,78,'Bharath','45.000',False,78,sname='Jyothi',syear='2')"
   ]
  },
  {
   "cell_type": "markdown",
   "id": "127d1760",
   "metadata": {},
   "source": [
    "## Data Structures:\n",
    "    - To store the data and organize the data in ordered or unordered format\n",
    "    - List\n",
    "    - Tuple\n",
    "    - Set\n",
    "    - Dictionary\n",
    "    - String"
   ]
  },
  {
   "cell_type": "markdown",
   "id": "4ab51b5f",
   "metadata": {},
   "source": [
    "## List:\n",
    "    - It can be represented as []\n",
    "    - It stores all data type values\n",
    "    - It stores data in ordered format and seperated with ,\n",
    "    - It allows duplicate values\n",
    "    - Slicing can be done because of index\n",
    "    - It can be typecasted as list()\n",
    "    - It can changes a value"
   ]
  },
  {
   "cell_type": "code",
   "execution_count": 22,
   "id": "e11d15b4",
   "metadata": {},
   "outputs": [
    {
     "name": "stdout",
     "output_type": "stream",
     "text": [
      "[23, 45.42121, 'Kalyan', 23, (5+6j), False] <class 'list'>\n"
     ]
    }
   ],
   "source": [
    "h = [23,45.42121,'Kalyan',23,5+6j,False]\n",
    "print(h,type(h))"
   ]
  },
  {
   "cell_type": "code",
   "execution_count": 23,
   "id": "14b0933d",
   "metadata": {},
   "outputs": [
    {
     "name": "stdout",
     "output_type": "stream",
     "text": [
      "0 <class 'int'>\n",
      "1 <class 'int'>\n",
      "2 <class 'int'>\n",
      "3 <class 'int'>\n",
      "4 <class 'int'>\n",
      "5 <class 'int'>\n"
     ]
    }
   ],
   "source": [
    "for i in range(len(h)):\n",
    "    print(i,type(i))"
   ]
  },
  {
   "cell_type": "code",
   "execution_count": 25,
   "id": "f0dcc1ca",
   "metadata": {},
   "outputs": [
    {
     "name": "stdout",
     "output_type": "stream",
     "text": [
      "23 <class 'int'>\n",
      "45.42121 <class 'float'>\n",
      "Kalyan <class 'str'>\n",
      "23 <class 'int'>\n",
      "(5+6j) <class 'complex'>\n",
      "False <class 'bool'>\n"
     ]
    }
   ],
   "source": [
    "for i in range(len(h)):\n",
    "    print(h[i],type(h[i]))"
   ]
  },
  {
   "cell_type": "code",
   "execution_count": 26,
   "id": "507cc6d2",
   "metadata": {},
   "outputs": [
    {
     "name": "stdout",
     "output_type": "stream",
     "text": [
      "23 <class 'int'>\n",
      "45.42121 <class 'float'>\n",
      "Kalyan <class 'str'>\n",
      "23 <class 'int'>\n",
      "(5+6j) <class 'complex'>\n",
      "False <class 'bool'>\n"
     ]
    }
   ],
   "source": [
    "for i in h:\n",
    "    print(i,type(i))"
   ]
  },
  {
   "cell_type": "code",
   "execution_count": 27,
   "id": "ba08ec7b",
   "metadata": {},
   "outputs": [
    {
     "name": "stdout",
     "output_type": "stream",
     "text": [
      "[12, 45, 7, 8, 9, 6, 1, 1, 2, 0.2, 'Harish', (5+67j), 4, 89, 5, True]\n"
     ]
    }
   ],
   "source": [
    "z = [12,45,7,8,9,6,1,1,2,0.2,'Harish',5+67j,4,89,5,True]\n",
    "print(z)"
   ]
  },
  {
   "cell_type": "code",
   "execution_count": 28,
   "id": "871424cb",
   "metadata": {},
   "outputs": [
    {
     "name": "stdout",
     "output_type": "stream",
     "text": [
      "[12, 45, 7, 8, 9, 6, 1, 1, 2, 0.2, 'Harish', (5+67j), 4, 89, 5, True]\n",
      "[12, 45, 7, 8, 9, 6, 1, 1, 2, 0.2, 'Harish', (5+67j), 4, 89, 5, True]\n",
      "[12, 45, 7, 8, 9, 6, 1, 1, 2, 0.2, 'Harish', (5+67j), 4, 89, 5, True]\n"
     ]
    }
   ],
   "source": [
    "print(z)\n",
    "print(z[:])\n",
    "print(z[::])"
   ]
  },
  {
   "cell_type": "code",
   "execution_count": 29,
   "id": "3069155d",
   "metadata": {},
   "outputs": [
    {
     "name": "stdout",
     "output_type": "stream",
     "text": [
      "[12, 45, 7, 8, 9, 6, 1, 1, 2, 0.2, 'Harish', (5+67j), 4, 89, 5, True]\n",
      "2\n",
      "89\n"
     ]
    }
   ],
   "source": [
    "print(z)\n",
    "print(z[8])\n",
    "print(z[-3])"
   ]
  },
  {
   "cell_type": "code",
   "execution_count": 35,
   "id": "92dc5d5a",
   "metadata": {},
   "outputs": [
    {
     "name": "stdout",
     "output_type": "stream",
     "text": [
      "[12, 45, 7, 8, 9, 6, 1, 1, 2, 0.2, 'Harish', (5+67j), 4, 89, 5, True]\n",
      "[8, 9, 6, 1, 1, 2, 0.2, 'Harish', (5+67j), 4, 89, 5, True]\n",
      "[12, 45, 7, 8, 9, 6]\n",
      "[7, 8, 9, 6, 1, 1]\n",
      "[(5+67j), 4, 89, 5, True]\n",
      "[12, 45, 7, 8, 9, 6, 1, 1, 2, 0.2]\n",
      "[1, 2, 0.2, 'Harish', (5+67j), 4]\n"
     ]
    }
   ],
   "source": [
    "print(z)\n",
    "print(z[3:])\n",
    "print(z[:6])\n",
    "print(z[2:8])\n",
    "print(z[-5:])\n",
    "print(z[:-6])\n",
    "print(z[-9:-3])"
   ]
  },
  {
   "cell_type": "code",
   "execution_count": 44,
   "id": "b3fd553f",
   "metadata": {},
   "outputs": [
    {
     "name": "stdout",
     "output_type": "stream",
     "text": [
      "[12, 45, 7, 8, 9, 6, 1, 1, 2, 0.2, 'Harish', (5+67j), 4, 89, 5, True]\n",
      "[8, 9, 6, 1, 1, 2, 0.2, 'Harish', (5+67j), 4, 89, 5, True]\n",
      "[12, 45, 7, 8, 9, 6, 1]\n",
      "[8, 9, 6, 1, 1, 2]\n",
      "[(5+67j)]\n",
      "[0.2, 'Harish']\n",
      "[8, 1, 0.2]\n",
      "[True, 5, 89, 4, (5+67j), 'Harish', 0.2, 2, 1, 1, 6, 9, 8, 7, 45, 12]\n"
     ]
    }
   ],
   "source": [
    "print(z)\n",
    "print(z[3::])\n",
    "print(z[:7:])\n",
    "print(z[3:9:])\n",
    "print(z[-5:12:])\n",
    "print(z[9:-5:])\n",
    "print(z[3:12:3])\n",
    "print(z[::-1])"
   ]
  },
  {
   "cell_type": "code",
   "execution_count": 45,
   "id": "5b404e8f",
   "metadata": {},
   "outputs": [
    {
     "name": "stdout",
     "output_type": "stream",
     "text": [
      "Built-in mutable sequence.\n",
      "\n",
      "If no argument is given, the constructor creates a new empty list.\n",
      "The argument must be an iterable if specified.\n"
     ]
    }
   ],
   "source": [
    "print(list.__doc__)"
   ]
  },
  {
   "cell_type": "code",
   "execution_count": 46,
   "id": "2ffe5388",
   "metadata": {},
   "outputs": [
    {
     "name": "stdout",
     "output_type": "stream",
     "text": [
      "Help on class list in module builtins:\n",
      "\n",
      "class list(object)\n",
      " |  list(iterable=(), /)\n",
      " |  \n",
      " |  Built-in mutable sequence.\n",
      " |  \n",
      " |  If no argument is given, the constructor creates a new empty list.\n",
      " |  The argument must be an iterable if specified.\n",
      " |  \n",
      " |  Methods defined here:\n",
      " |  \n",
      " |  __add__(self, value, /)\n",
      " |      Return self+value.\n",
      " |  \n",
      " |  __contains__(self, key, /)\n",
      " |      Return key in self.\n",
      " |  \n",
      " |  __delitem__(self, key, /)\n",
      " |      Delete self[key].\n",
      " |  \n",
      " |  __eq__(self, value, /)\n",
      " |      Return self==value.\n",
      " |  \n",
      " |  __ge__(self, value, /)\n",
      " |      Return self>=value.\n",
      " |  \n",
      " |  __getattribute__(self, name, /)\n",
      " |      Return getattr(self, name).\n",
      " |  \n",
      " |  __getitem__(...)\n",
      " |      x.__getitem__(y) <==> x[y]\n",
      " |  \n",
      " |  __gt__(self, value, /)\n",
      " |      Return self>value.\n",
      " |  \n",
      " |  __iadd__(self, value, /)\n",
      " |      Implement self+=value.\n",
      " |  \n",
      " |  __imul__(self, value, /)\n",
      " |      Implement self*=value.\n",
      " |  \n",
      " |  __init__(self, /, *args, **kwargs)\n",
      " |      Initialize self.  See help(type(self)) for accurate signature.\n",
      " |  \n",
      " |  __iter__(self, /)\n",
      " |      Implement iter(self).\n",
      " |  \n",
      " |  __le__(self, value, /)\n",
      " |      Return self<=value.\n",
      " |  \n",
      " |  __len__(self, /)\n",
      " |      Return len(self).\n",
      " |  \n",
      " |  __lt__(self, value, /)\n",
      " |      Return self<value.\n",
      " |  \n",
      " |  __mul__(self, value, /)\n",
      " |      Return self*value.\n",
      " |  \n",
      " |  __ne__(self, value, /)\n",
      " |      Return self!=value.\n",
      " |  \n",
      " |  __repr__(self, /)\n",
      " |      Return repr(self).\n",
      " |  \n",
      " |  __reversed__(self, /)\n",
      " |      Return a reverse iterator over the list.\n",
      " |  \n",
      " |  __rmul__(self, value, /)\n",
      " |      Return value*self.\n",
      " |  \n",
      " |  __setitem__(self, key, value, /)\n",
      " |      Set self[key] to value.\n",
      " |  \n",
      " |  __sizeof__(self, /)\n",
      " |      Return the size of the list in memory, in bytes.\n",
      " |  \n",
      " |  append(self, object, /)\n",
      " |      Append object to the end of the list.\n",
      " |  \n",
      " |  clear(self, /)\n",
      " |      Remove all items from list.\n",
      " |  \n",
      " |  copy(self, /)\n",
      " |      Return a shallow copy of the list.\n",
      " |  \n",
      " |  count(self, value, /)\n",
      " |      Return number of occurrences of value.\n",
      " |  \n",
      " |  extend(self, iterable, /)\n",
      " |      Extend list by appending elements from the iterable.\n",
      " |  \n",
      " |  index(self, value, start=0, stop=9223372036854775807, /)\n",
      " |      Return first index of value.\n",
      " |      \n",
      " |      Raises ValueError if the value is not present.\n",
      " |  \n",
      " |  insert(self, index, object, /)\n",
      " |      Insert object before index.\n",
      " |  \n",
      " |  pop(self, index=-1, /)\n",
      " |      Remove and return item at index (default last).\n",
      " |      \n",
      " |      Raises IndexError if list is empty or index is out of range.\n",
      " |  \n",
      " |  remove(self, value, /)\n",
      " |      Remove first occurrence of value.\n",
      " |      \n",
      " |      Raises ValueError if the value is not present.\n",
      " |  \n",
      " |  reverse(self, /)\n",
      " |      Reverse *IN PLACE*.\n",
      " |  \n",
      " |  sort(self, /, *, key=None, reverse=False)\n",
      " |      Sort the list in ascending order and return None.\n",
      " |      \n",
      " |      The sort is in-place (i.e. the list itself is modified) and stable (i.e. the\n",
      " |      order of two equal elements is maintained).\n",
      " |      \n",
      " |      If a key function is given, apply it once to each list item and sort them,\n",
      " |      ascending or descending, according to their function values.\n",
      " |      \n",
      " |      The reverse flag can be set to sort in descending order.\n",
      " |  \n",
      " |  ----------------------------------------------------------------------\n",
      " |  Class methods defined here:\n",
      " |  \n",
      " |  __class_getitem__(...) from builtins.type\n",
      " |      See PEP 585\n",
      " |  \n",
      " |  ----------------------------------------------------------------------\n",
      " |  Static methods defined here:\n",
      " |  \n",
      " |  __new__(*args, **kwargs) from builtins.type\n",
      " |      Create and return a new object.  See help(type) for accurate signature.\n",
      " |  \n",
      " |  ----------------------------------------------------------------------\n",
      " |  Data and other attributes defined here:\n",
      " |  \n",
      " |  __hash__ = None\n",
      "\n"
     ]
    }
   ],
   "source": [
    "help(list)"
   ]
  },
  {
   "cell_type": "code",
   "execution_count": 47,
   "id": "9ea317e7",
   "metadata": {},
   "outputs": [
    {
     "name": "stdout",
     "output_type": "stream",
     "text": [
      "Help on method_descriptor:\n",
      "\n",
      "append(self, object, /)\n",
      "    Append object to the end of the list.\n",
      "\n"
     ]
    }
   ],
   "source": [
    "help(list.append)"
   ]
  },
  {
   "cell_type": "code",
   "execution_count": 48,
   "id": "3abba541",
   "metadata": {},
   "outputs": [
    {
     "name": "stdout",
     "output_type": "stream",
     "text": [
      "Append object to the end of the list.\n"
     ]
    }
   ],
   "source": [
    "print(list.append.__doc__)"
   ]
  },
  {
   "cell_type": "code",
   "execution_count": 49,
   "id": "8a5a6f48",
   "metadata": {},
   "outputs": [
    {
     "name": "stdout",
     "output_type": "stream",
     "text": [
      "['__add__', '__class__', '__class_getitem__', '__contains__', '__delattr__', '__delitem__', '__dir__', '__doc__', '__eq__', '__format__', '__ge__', '__getattribute__', '__getitem__', '__gt__', '__hash__', '__iadd__', '__imul__', '__init__', '__init_subclass__', '__iter__', '__le__', '__len__', '__lt__', '__mul__', '__ne__', '__new__', '__reduce__', '__reduce_ex__', '__repr__', '__reversed__', '__rmul__', '__setattr__', '__setitem__', '__sizeof__', '__str__', '__subclasshook__', 'append', 'clear', 'copy', 'count', 'extend', 'index', 'insert', 'pop', 'remove', 'reverse', 'sort']\n"
     ]
    }
   ],
   "source": [
    "print(dir(list))"
   ]
  },
  {
   "cell_type": "code",
   "execution_count": 50,
   "id": "faed5ea1",
   "metadata": {},
   "outputs": [
    {
     "name": "stdout",
     "output_type": "stream",
     "text": [
      "[45]\n"
     ]
    }
   ],
   "source": [
    "w = [45]\n",
    "print(w)"
   ]
  },
  {
   "cell_type": "code",
   "execution_count": 51,
   "id": "67573985",
   "metadata": {},
   "outputs": [
    {
     "name": "stdout",
     "output_type": "stream",
     "text": [
      "[45]\n",
      "[45, 34]\n"
     ]
    }
   ],
   "source": [
    "print(w)\n",
    "w.append(34)\n",
    "print(w)"
   ]
  },
  {
   "cell_type": "code",
   "execution_count": 52,
   "id": "f63062fe",
   "metadata": {},
   "outputs": [
    {
     "name": "stdout",
     "output_type": "stream",
     "text": [
      "[45, 34]\n"
     ]
    },
    {
     "ename": "TypeError",
     "evalue": "list.append() takes exactly one argument (2 given)",
     "output_type": "error",
     "traceback": [
      "\u001b[1;31m---------------------------------------------------------------------------\u001b[0m",
      "\u001b[1;31mTypeError\u001b[0m                                 Traceback (most recent call last)",
      "Cell \u001b[1;32mIn[52], line 2\u001b[0m\n\u001b[0;32m      1\u001b[0m \u001b[38;5;28mprint\u001b[39m(w)\n\u001b[1;32m----> 2\u001b[0m \u001b[43mw\u001b[49m\u001b[38;5;241;43m.\u001b[39;49m\u001b[43mappend\u001b[49m\u001b[43m(\u001b[49m\u001b[38;5;241;43m12\u001b[39;49m\u001b[43m,\u001b[49m\u001b[38;5;241;43m56\u001b[39;49m\u001b[43m)\u001b[49m\n\u001b[0;32m      3\u001b[0m \u001b[38;5;28mprint\u001b[39m(w)\n",
      "\u001b[1;31mTypeError\u001b[0m: list.append() takes exactly one argument (2 given)"
     ]
    }
   ],
   "source": [
    "print(w)\n",
    "w.append(12,56)\n",
    "print(w)"
   ]
  },
  {
   "cell_type": "code",
   "execution_count": 53,
   "id": "d636d136",
   "metadata": {},
   "outputs": [
    {
     "name": "stdout",
     "output_type": "stream",
     "text": [
      "[45, 34]\n",
      "[45, 34, [1, 6, 8]]\n"
     ]
    }
   ],
   "source": [
    "print(w)\n",
    "w.append([1,6,8])\n",
    "print(w)"
   ]
  },
  {
   "cell_type": "code",
   "execution_count": 54,
   "id": "1eb503d7",
   "metadata": {},
   "outputs": [
    {
     "name": "stdout",
     "output_type": "stream",
     "text": [
      "[45, 34, [1, 6, 8]]\n"
     ]
    },
    {
     "ename": "TypeError",
     "evalue": "'int' object is not iterable",
     "output_type": "error",
     "traceback": [
      "\u001b[1;31m---------------------------------------------------------------------------\u001b[0m",
      "\u001b[1;31mTypeError\u001b[0m                                 Traceback (most recent call last)",
      "Cell \u001b[1;32mIn[54], line 2\u001b[0m\n\u001b[0;32m      1\u001b[0m \u001b[38;5;28mprint\u001b[39m(w)\n\u001b[1;32m----> 2\u001b[0m \u001b[43mw\u001b[49m\u001b[38;5;241;43m.\u001b[39;49m\u001b[43mextend\u001b[49m\u001b[43m(\u001b[49m\u001b[38;5;241;43m6\u001b[39;49m\u001b[43m)\u001b[49m\n\u001b[0;32m      3\u001b[0m \u001b[38;5;28mprint\u001b[39m(w)\n",
      "\u001b[1;31mTypeError\u001b[0m: 'int' object is not iterable"
     ]
    }
   ],
   "source": [
    "print(w)\n",
    "w.extend(6)\n",
    "print(w)"
   ]
  },
  {
   "cell_type": "code",
   "execution_count": 55,
   "id": "4a1bcd2f",
   "metadata": {},
   "outputs": [
    {
     "name": "stdout",
     "output_type": "stream",
     "text": [
      "[45, 34, [1, 6, 8]]\n",
      "[45, 34, [1, 6, 8], 3, 7, 8]\n"
     ]
    }
   ],
   "source": [
    "print(w)\n",
    "w.extend([3,7,8])\n",
    "print(w)"
   ]
  },
  {
   "cell_type": "code",
   "execution_count": 56,
   "id": "f1dd2fa8",
   "metadata": {},
   "outputs": [
    {
     "name": "stdout",
     "output_type": "stream",
     "text": [
      "[45, 34, [1, 6, 8], 3, 7, 8]\n",
      "[600, 45, 34, [1, 6, 8], 3, 7, 8]\n"
     ]
    }
   ],
   "source": [
    "print(w)\n",
    "w.insert(0,600)\n",
    "print(w)"
   ]
  },
  {
   "cell_type": "code",
   "execution_count": 57,
   "id": "fe844cfe",
   "metadata": {},
   "outputs": [
    {
     "name": "stdout",
     "output_type": "stream",
     "text": [
      "[600, 45, 34, [1, 6, 8], 3, 7, 8]\n",
      "[600, 45, 34, [1, 6, 8], 3, 7, 8]\n",
      "[600, 45, 34, [1, 6, 8], 3, 7, 8]\n"
     ]
    }
   ],
   "source": [
    "print(w)\n",
    "q = w.copy()\n",
    "print(q)\n",
    "print(w)"
   ]
  },
  {
   "cell_type": "code",
   "execution_count": 58,
   "id": "a5517dab",
   "metadata": {},
   "outputs": [
    {
     "name": "stdout",
     "output_type": "stream",
     "text": [
      "[600, 45, 34, [1, 6, 8], 3, 7, 8]\n",
      "[600, 45, 34, [1, 6, 8], 3, 7, 8]\n",
      "[600, 45, 34, [1, 6, 8], 3, 7, 8]\n",
      "[250, 600, 45, 34, [1, 6, 8], 3, 7, 8]\n"
     ]
    }
   ],
   "source": [
    "print(w)\n",
    "print(q)\n",
    "q.insert(0,250)\n",
    "print(w)\n",
    "print(q)"
   ]
  },
  {
   "cell_type": "code",
   "execution_count": 59,
   "id": "21a089ae",
   "metadata": {},
   "outputs": [
    {
     "name": "stdout",
     "output_type": "stream",
     "text": [
      "[600, 45, 34, [1, 6, 8], 3, 7, 8]\n",
      "[600, 45, 34, [1, 6, 8], 3, 7]\n"
     ]
    }
   ],
   "source": [
    "print(w)\n",
    "w.pop()\n",
    "print(w)"
   ]
  },
  {
   "cell_type": "code",
   "execution_count": 60,
   "id": "d19f871d",
   "metadata": {},
   "outputs": [
    {
     "name": "stdout",
     "output_type": "stream",
     "text": [
      "[600, 45, 34, [1, 6, 8], 3, 7]\n",
      "[45, 34, [1, 6, 8], 3, 7]\n"
     ]
    }
   ],
   "source": [
    "print(w)\n",
    "w.pop(0)\n",
    "print(w)"
   ]
  },
  {
   "cell_type": "code",
   "execution_count": 80,
   "id": "5f487921",
   "metadata": {},
   "outputs": [
    {
     "name": "stdout",
     "output_type": "stream",
     "text": [
      "[45, 89, 5]\n",
      "0\n"
     ]
    },
    {
     "ename": "ValueError",
     "evalue": "-300 is not in list",
     "output_type": "error",
     "traceback": [
      "\u001b[1;31m---------------------------------------------------------------------------\u001b[0m",
      "\u001b[1;31mValueError\u001b[0m                                Traceback (most recent call last)",
      "Cell \u001b[1;32mIn[80], line 4\u001b[0m\n\u001b[0;32m      2\u001b[0m \u001b[38;5;28mprint\u001b[39m(b)\n\u001b[0;32m      3\u001b[0m \u001b[38;5;28mprint\u001b[39m(b\u001b[38;5;241m.\u001b[39mindex(\u001b[38;5;241m45\u001b[39m))\n\u001b[1;32m----> 4\u001b[0m \u001b[38;5;28mprint\u001b[39m(\u001b[43mb\u001b[49m\u001b[38;5;241;43m.\u001b[39;49m\u001b[43mindex\u001b[49m\u001b[43m(\u001b[49m\u001b[38;5;241;43m-\u001b[39;49m\u001b[38;5;241;43m300\u001b[39;49m\u001b[43m)\u001b[49m)\n",
      "\u001b[1;31mValueError\u001b[0m: -300 is not in list"
     ]
    }
   ],
   "source": [
    "b = [45,89,5]\n",
    "print(b)\n",
    "print(b.index(45))\n",
    "print(b.index(-300))"
   ]
  },
  {
   "cell_type": "code",
   "execution_count": 61,
   "id": "9d677d98",
   "metadata": {},
   "outputs": [
    {
     "name": "stdout",
     "output_type": "stream",
     "text": [
      "[45, 34, [1, 6, 8], 3, 7]\n"
     ]
    },
    {
     "ename": "IndexError",
     "evalue": "pop index out of range",
     "output_type": "error",
     "traceback": [
      "\u001b[1;31m---------------------------------------------------------------------------\u001b[0m",
      "\u001b[1;31mIndexError\u001b[0m                                Traceback (most recent call last)",
      "Cell \u001b[1;32mIn[61], line 2\u001b[0m\n\u001b[0;32m      1\u001b[0m \u001b[38;5;28mprint\u001b[39m(w)\n\u001b[1;32m----> 2\u001b[0m \u001b[43mw\u001b[49m\u001b[38;5;241;43m.\u001b[39;49m\u001b[43mpop\u001b[49m\u001b[43m(\u001b[49m\u001b[38;5;241;43m-\u001b[39;49m\u001b[38;5;241;43m500\u001b[39;49m\u001b[43m)\u001b[49m\n\u001b[0;32m      3\u001b[0m \u001b[38;5;28mprint\u001b[39m(w)\n",
      "\u001b[1;31mIndexError\u001b[0m: pop index out of range"
     ]
    }
   ],
   "source": [
    "print(w)\n",
    "w.pop(-500)\n",
    "print(w)"
   ]
  },
  {
   "cell_type": "code",
   "execution_count": 62,
   "id": "5f694fb5",
   "metadata": {},
   "outputs": [
    {
     "name": "stdout",
     "output_type": "stream",
     "text": [
      "[45, 34, [1, 6, 8], 3, 7]\n"
     ]
    },
    {
     "ename": "TypeError",
     "evalue": "list.remove() takes exactly one argument (0 given)",
     "output_type": "error",
     "traceback": [
      "\u001b[1;31m---------------------------------------------------------------------------\u001b[0m",
      "\u001b[1;31mTypeError\u001b[0m                                 Traceback (most recent call last)",
      "Cell \u001b[1;32mIn[62], line 2\u001b[0m\n\u001b[0;32m      1\u001b[0m \u001b[38;5;28mprint\u001b[39m(w)\n\u001b[1;32m----> 2\u001b[0m \u001b[43mw\u001b[49m\u001b[38;5;241;43m.\u001b[39;49m\u001b[43mremove\u001b[49m\u001b[43m(\u001b[49m\u001b[43m)\u001b[49m\n\u001b[0;32m      3\u001b[0m \u001b[38;5;28mprint\u001b[39m(w)\n",
      "\u001b[1;31mTypeError\u001b[0m: list.remove() takes exactly one argument (0 given)"
     ]
    }
   ],
   "source": [
    "print(w)\n",
    "w.remove()\n",
    "print(w)"
   ]
  },
  {
   "cell_type": "code",
   "execution_count": 63,
   "id": "3ea5a80b",
   "metadata": {},
   "outputs": [
    {
     "name": "stdout",
     "output_type": "stream",
     "text": [
      "[45, 34, [1, 6, 8], 3, 7]\n",
      "[45, 34, [1, 6, 8], 7]\n"
     ]
    }
   ],
   "source": [
    "print(w)\n",
    "w.remove(3)\n",
    "print(w)"
   ]
  },
  {
   "cell_type": "code",
   "execution_count": 64,
   "id": "5d05f404",
   "metadata": {},
   "outputs": [
    {
     "name": "stdout",
     "output_type": "stream",
     "text": [
      "[45, 34, [1, 6, 8], 7]\n"
     ]
    },
    {
     "ename": "ValueError",
     "evalue": "list.remove(x): x not in list",
     "output_type": "error",
     "traceback": [
      "\u001b[1;31m---------------------------------------------------------------------------\u001b[0m",
      "\u001b[1;31mValueError\u001b[0m                                Traceback (most recent call last)",
      "Cell \u001b[1;32mIn[64], line 2\u001b[0m\n\u001b[0;32m      1\u001b[0m \u001b[38;5;28mprint\u001b[39m(w)\n\u001b[1;32m----> 2\u001b[0m \u001b[43mw\u001b[49m\u001b[38;5;241;43m.\u001b[39;49m\u001b[43mremove\u001b[49m\u001b[43m(\u001b[49m\u001b[38;5;241;43m-\u001b[39;49m\u001b[38;5;241;43m10\u001b[39;49m\u001b[43m)\u001b[49m\n\u001b[0;32m      3\u001b[0m \u001b[38;5;28mprint\u001b[39m(w)\n",
      "\u001b[1;31mValueError\u001b[0m: list.remove(x): x not in list"
     ]
    }
   ],
   "source": [
    "print(w)\n",
    "w.remove(-10)\n",
    "print(w)"
   ]
  },
  {
   "cell_type": "code",
   "execution_count": 65,
   "id": "f89de54c",
   "metadata": {},
   "outputs": [
    {
     "name": "stdout",
     "output_type": "stream",
     "text": [
      "[45, 34, [1, 6, 8], 7]\n",
      "1\n",
      "0\n"
     ]
    }
   ],
   "source": [
    "print(w)\n",
    "print(w.count(7))\n",
    "print(w.count(-5))"
   ]
  },
  {
   "cell_type": "code",
   "execution_count": 66,
   "id": "55a8ed0d",
   "metadata": {},
   "outputs": [
    {
     "name": "stdout",
     "output_type": "stream",
     "text": [
      "[45, 8, 963, 5, 2, 15]\n",
      "[2, 5, 8, 15, 45, 963]\n"
     ]
    }
   ],
   "source": [
    "y = [45,8,963,5,2,15]\n",
    "print(y)\n",
    "y.sort()\n",
    "print(y)"
   ]
  },
  {
   "cell_type": "code",
   "execution_count": 67,
   "id": "eff9cc58",
   "metadata": {},
   "outputs": [
    {
     "name": "stdout",
     "output_type": "stream",
     "text": [
      "[12, 5, 26, 23, 785]\n",
      "[785, 26, 23, 12, 5]\n"
     ]
    }
   ],
   "source": [
    "a = [12,5,26,23,785]\n",
    "print(a)\n",
    "a.sort(reverse=True)\n",
    "print(a)"
   ]
  },
  {
   "cell_type": "code",
   "execution_count": 69,
   "id": "71e113b1",
   "metadata": {},
   "outputs": [
    {
     "name": "stdout",
     "output_type": "stream",
     "text": [
      "[1, 45, 6, 8, 9, 56]\n",
      "[56, 9, 8, 6, 45, 1]\n"
     ]
    }
   ],
   "source": [
    "w = [1,45,6,8,9,56]\n",
    "print(w)\n",
    "w.reverse()\n",
    "print(w)"
   ]
  },
  {
   "cell_type": "code",
   "execution_count": 70,
   "id": "9217c824",
   "metadata": {},
   "outputs": [
    {
     "name": "stdout",
     "output_type": "stream",
     "text": [
      "[56, 9, 8, 6, 45, 1]\n",
      "[]\n"
     ]
    }
   ],
   "source": [
    "print(w)\n",
    "w.clear()\n",
    "print(w)"
   ]
  },
  {
   "cell_type": "code",
   "execution_count": 71,
   "id": "59f30387",
   "metadata": {},
   "outputs": [
    {
     "name": "stdout",
     "output_type": "stream",
     "text": [
      "[45, 889, 23.0]\n"
     ]
    },
    {
     "ename": "NameError",
     "evalue": "name 'v' is not defined",
     "output_type": "error",
     "traceback": [
      "\u001b[1;31m---------------------------------------------------------------------------\u001b[0m",
      "\u001b[1;31mNameError\u001b[0m                                 Traceback (most recent call last)",
      "Cell \u001b[1;32mIn[71], line 4\u001b[0m\n\u001b[0;32m      2\u001b[0m \u001b[38;5;28mprint\u001b[39m(v)\n\u001b[0;32m      3\u001b[0m \u001b[38;5;28;01mdel\u001b[39;00m v\n\u001b[1;32m----> 4\u001b[0m \u001b[38;5;28mprint\u001b[39m(\u001b[43mv\u001b[49m)\n",
      "\u001b[1;31mNameError\u001b[0m: name 'v' is not defined"
     ]
    }
   ],
   "source": [
    "v = [45,889,23.0]\n",
    "print(v)\n",
    "del v\n",
    "print(v)"
   ]
  },
  {
   "cell_type": "markdown",
   "id": "8b928ef2",
   "metadata": {},
   "source": [
    "## Tuple:\n",
    "    - It can be represented as ()\n",
    "    - It stores data in ordered format with seperation of , value\n",
    "    - It stores all data type values\n",
    "    - It can be typecasted as tuple()\n",
    "    - It can't changes a value\n",
    "    - It allows duplicate values\n",
    "    - Slicing can be done because of index"
   ]
  },
  {
   "cell_type": "code",
   "execution_count": 72,
   "id": "80224aba",
   "metadata": {},
   "outputs": [
    {
     "name": "stdout",
     "output_type": "stream",
     "text": [
      "(1, 45.01, 'Kiran', False, (5+34j), None, 1, 1) <class 'tuple'>\n"
     ]
    }
   ],
   "source": [
    "k = (1,45.01,'Kiran',False,5+34j,None,1,1)\n",
    "print(k,type(k))"
   ]
  },
  {
   "cell_type": "code",
   "execution_count": 73,
   "id": "eeb2e5b0",
   "metadata": {},
   "outputs": [
    {
     "name": "stdout",
     "output_type": "stream",
     "text": [
      "0 <class 'int'>\n",
      "1 <class 'int'>\n",
      "2 <class 'int'>\n",
      "3 <class 'int'>\n",
      "4 <class 'int'>\n",
      "5 <class 'int'>\n",
      "6 <class 'int'>\n",
      "7 <class 'int'>\n"
     ]
    }
   ],
   "source": [
    "for i in range(len(k)):\n",
    "    print(i,type(i))"
   ]
  },
  {
   "cell_type": "code",
   "execution_count": 74,
   "id": "1212b5a1",
   "metadata": {},
   "outputs": [
    {
     "name": "stdout",
     "output_type": "stream",
     "text": [
      "1 <class 'int'>\n",
      "45.01 <class 'float'>\n",
      "Kiran <class 'str'>\n",
      "False <class 'bool'>\n",
      "(5+34j) <class 'complex'>\n",
      "None <class 'NoneType'>\n",
      "1 <class 'int'>\n",
      "1 <class 'int'>\n"
     ]
    }
   ],
   "source": [
    "for i in range(len(k)):\n",
    "    print(k[i],type(k[i]))"
   ]
  },
  {
   "cell_type": "code",
   "execution_count": 75,
   "id": "13633a71",
   "metadata": {},
   "outputs": [
    {
     "name": "stdout",
     "output_type": "stream",
     "text": [
      "1 <class 'int'>\n",
      "45.01 <class 'float'>\n",
      "Kiran <class 'str'>\n",
      "False <class 'bool'>\n",
      "(5+34j) <class 'complex'>\n",
      "None <class 'NoneType'>\n",
      "1 <class 'int'>\n",
      "1 <class 'int'>\n"
     ]
    }
   ],
   "source": [
    "for i in k:\n",
    "    print(i,type(i))"
   ]
  },
  {
   "cell_type": "code",
   "execution_count": 76,
   "id": "84da607c",
   "metadata": {},
   "outputs": [
    {
     "name": "stdout",
     "output_type": "stream",
     "text": [
      "['__add__', '__class__', '__class_getitem__', '__contains__', '__delattr__', '__dir__', '__doc__', '__eq__', '__format__', '__ge__', '__getattribute__', '__getitem__', '__getnewargs__', '__gt__', '__hash__', '__init__', '__init_subclass__', '__iter__', '__le__', '__len__', '__lt__', '__mul__', '__ne__', '__new__', '__reduce__', '__reduce_ex__', '__repr__', '__rmul__', '__setattr__', '__sizeof__', '__str__', '__subclasshook__', 'count', 'index']\n"
     ]
    }
   ],
   "source": [
    "print(dir(tuple))"
   ]
  },
  {
   "cell_type": "code",
   "execution_count": 81,
   "id": "0c1360ea",
   "metadata": {},
   "outputs": [
    {
     "name": "stdout",
     "output_type": "stream",
     "text": [
      "(45, 8, 9, 6, 56, 23, 8)\n",
      "2\n",
      "0\n"
     ]
    }
   ],
   "source": [
    "y = (45,8,9,6,56,23,8)\n",
    "print(y)\n",
    "print(y.count(8))\n",
    "print(y.count(-200))"
   ]
  },
  {
   "cell_type": "code",
   "execution_count": 82,
   "id": "a40b0d28",
   "metadata": {},
   "outputs": [
    {
     "name": "stdout",
     "output_type": "stream",
     "text": [
      "(45, 8, 9, 6, 56, 23, 8)\n",
      "2\n"
     ]
    },
    {
     "ename": "ValueError",
     "evalue": "tuple.index(x): x not in tuple",
     "output_type": "error",
     "traceback": [
      "\u001b[1;31m---------------------------------------------------------------------------\u001b[0m",
      "\u001b[1;31mValueError\u001b[0m                                Traceback (most recent call last)",
      "Cell \u001b[1;32mIn[82], line 3\u001b[0m\n\u001b[0;32m      1\u001b[0m \u001b[38;5;28mprint\u001b[39m(y)\n\u001b[0;32m      2\u001b[0m \u001b[38;5;28mprint\u001b[39m(y\u001b[38;5;241m.\u001b[39mindex(\u001b[38;5;241m9\u001b[39m))\n\u001b[1;32m----> 3\u001b[0m \u001b[38;5;28mprint\u001b[39m(\u001b[43my\u001b[49m\u001b[38;5;241;43m.\u001b[39;49m\u001b[43mindex\u001b[49m\u001b[43m(\u001b[49m\u001b[38;5;241;43m-\u001b[39;49m\u001b[38;5;241;43m3\u001b[39;49m\u001b[43m)\u001b[49m)\n",
      "\u001b[1;31mValueError\u001b[0m: tuple.index(x): x not in tuple"
     ]
    }
   ],
   "source": [
    "print(y)\n",
    "print(y.index(9))\n",
    "print(y.index(-3))"
   ]
  },
  {
   "cell_type": "markdown",
   "id": "081e52b2",
   "metadata": {},
   "source": [
    "## Dictionary:\n",
    "    - It can be represented as {} with empty {} \n",
    "    - It stores all data type values\n",
    "    - It stores data in ordered format with key and value pairs\n",
    "    - It can be typecasted as dict()\n",
    "    - Slicing can be done for only values\n",
    "    - It can changes a value\n",
    "    Syntax:\n",
    "        k = {(key,value),(keys,values[],(),{})}"
   ]
  },
  {
   "cell_type": "code",
   "execution_count": 84,
   "id": "3f87edcd",
   "metadata": {},
   "outputs": [
    {
     "name": "stdout",
     "output_type": "stream",
     "text": [
      "{'sno': 4, 'sname': ['Rajesh', 'Kumar', 'Rajesh'], 'sal': 25000} <class 'dict'>\n"
     ]
    }
   ],
   "source": [
    "y = {'sno':4,'sname':['Rajesh','Kumar','Rajesh'],'sal':25000}\n",
    "print(y,type(y))"
   ]
  },
  {
   "cell_type": "code",
   "execution_count": 85,
   "id": "846e92b0",
   "metadata": {},
   "outputs": [
    {
     "ename": "KeyError",
     "evalue": "0",
     "output_type": "error",
     "traceback": [
      "\u001b[1;31m---------------------------------------------------------------------------\u001b[0m",
      "\u001b[1;31mKeyError\u001b[0m                                  Traceback (most recent call last)",
      "Cell \u001b[1;32mIn[85], line 2\u001b[0m\n\u001b[0;32m      1\u001b[0m \u001b[38;5;28;01mfor\u001b[39;00m i \u001b[38;5;129;01min\u001b[39;00m \u001b[38;5;28mrange\u001b[39m(\u001b[38;5;28mlen\u001b[39m(y)):\n\u001b[1;32m----> 2\u001b[0m     \u001b[38;5;28mprint\u001b[39m(\u001b[43my\u001b[49m\u001b[43m[\u001b[49m\u001b[43mi\u001b[49m\u001b[43m]\u001b[49m,\u001b[38;5;28mtype\u001b[39m(y[i]))\n",
      "\u001b[1;31mKeyError\u001b[0m: 0"
     ]
    }
   ],
   "source": [
    "for i in range(len(y)):\n",
    "    print(y[i],type(y[i]))"
   ]
  },
  {
   "cell_type": "code",
   "execution_count": 86,
   "id": "e5ca36f4",
   "metadata": {},
   "outputs": [
    {
     "name": "stdout",
     "output_type": "stream",
     "text": [
      "sno <class 'str'>\n",
      "sname <class 'str'>\n",
      "sal <class 'str'>\n"
     ]
    }
   ],
   "source": [
    "for i in y:\n",
    "    print(i,type(i))"
   ]
  },
  {
   "cell_type": "code",
   "execution_count": 91,
   "id": "03fb81aa",
   "metadata": {},
   "outputs": [
    {
     "name": "stdout",
     "output_type": "stream",
     "text": [
      "['__class__', '__class_getitem__', '__contains__', '__delattr__', '__delitem__', '__dir__', '__doc__', '__eq__', '__format__', '__ge__', '__getattribute__', '__getitem__', '__gt__', '__hash__', '__init__', '__init_subclass__', '__ior__', '__iter__', '__le__', '__len__', '__lt__', '__ne__', '__new__', '__or__', '__reduce__', '__reduce_ex__', '__repr__', '__reversed__', '__ror__', '__setattr__', '__setitem__', '__sizeof__', '__str__', '__subclasshook__', 'clear', 'copy', 'fromkeys', 'get', 'items', 'keys', 'pop', 'popitem', 'setdefault', 'update', 'values']\n"
     ]
    }
   ],
   "source": [
    "print(dir(dict))"
   ]
  },
  {
   "cell_type": "code",
   "execution_count": 92,
   "id": "50d340df",
   "metadata": {},
   "outputs": [
    {
     "name": "stdout",
     "output_type": "stream",
     "text": [
      "{'sno': 4, 'sname': ['Rajesh', 'Kumar', 'Rajesh'], 'sal': 25000}\n",
      "dict_keys(['sno', 'sname', 'sal'])\n",
      "dict_values([4, ['Rajesh', 'Kumar', 'Rajesh'], 25000])\n"
     ]
    }
   ],
   "source": [
    "print(y)\n",
    "print(y.keys())\n",
    "print(y.values())"
   ]
  },
  {
   "cell_type": "code",
   "execution_count": 93,
   "id": "24763aa9",
   "metadata": {},
   "outputs": [
    {
     "name": "stdout",
     "output_type": "stream",
     "text": [
      "dict_items([('sno', 4), ('sname', ['Rajesh', 'Kumar', 'Rajesh']), ('sal', 25000)])\n"
     ]
    }
   ],
   "source": [
    "print(y.items())"
   ]
  },
  {
   "cell_type": "code",
   "execution_count": 94,
   "id": "65bece05",
   "metadata": {},
   "outputs": [
    {
     "name": "stdout",
     "output_type": "stream",
     "text": [
      "('sno', 4) <class 'tuple'>\n",
      "('sname', ['Rajesh', 'Kumar', 'Rajesh']) <class 'tuple'>\n",
      "('sal', 25000) <class 'tuple'>\n"
     ]
    }
   ],
   "source": [
    "for i in y.items():\n",
    "    print(i,type(i))"
   ]
  },
  {
   "cell_type": "code",
   "execution_count": 96,
   "id": "333f4450",
   "metadata": {},
   "outputs": [
    {
     "name": "stdout",
     "output_type": "stream",
     "text": [
      "4\n",
      "['Rajesh', 'Kumar', 'Rajesh']\n"
     ]
    }
   ],
   "source": [
    "print(y.get('sno'))\n",
    "print(y['sname'])"
   ]
  },
  {
   "cell_type": "code",
   "execution_count": 97,
   "id": "9b78abe1",
   "metadata": {},
   "outputs": [
    {
     "name": "stdout",
     "output_type": "stream",
     "text": [
      "{'sno': 4, 'sname': ['Rajesh', 'Kumar', 'Rajesh'], 'sal': 25000}\n",
      "{'sno': 4, 'sname': ['Rajesh', 'Kumar', 'Rajesh'], 'sal': 25000, 'Addresss': None}\n"
     ]
    }
   ],
   "source": [
    "print(y)\n",
    "y.setdefault('Addresss')\n",
    "print(y)"
   ]
  },
  {
   "cell_type": "code",
   "execution_count": 102,
   "id": "f353b1e1",
   "metadata": {},
   "outputs": [
    {
     "name": "stdout",
     "output_type": "stream",
     "text": [
      "{'sno': 4, 'sname': ['Rajesh', 'Kumar', 'Rajesh'], 'sal': 25000, 'Addresss': None}\n",
      "{'sno': 4, 'sname': ['Rajesh', 'Kumar', 'Rajesh'], 'sal': 25000, 'Addresss': None, 'Age': 20}\n"
     ]
    }
   ],
   "source": [
    "print(y)\n",
    "y.setdefault('Age',20)\n",
    "print(y)"
   ]
  },
  {
   "cell_type": "code",
   "execution_count": 105,
   "id": "792158cc",
   "metadata": {},
   "outputs": [
    {
     "name": "stdout",
     "output_type": "stream",
     "text": [
      "{'sno': 4, 'sname': ['Rajesh', 'Kumar', 'Rajesh'], 'sal': 25000, 'Addresss': None, 'Age': 20, 'Address': 'GNTR'}\n",
      "{'sno': 4, 'sname': ['Rajesh', 'Kumar', 'Rajesh'], 'sal': 25000, 'Addresss': None, 'Age': 20, 'Address': 'PTR'}\n"
     ]
    }
   ],
   "source": [
    "print(y)\n",
    "y.update({'Address':'PTR'})\n",
    "print(y)"
   ]
  },
  {
   "cell_type": "code",
   "execution_count": 106,
   "id": "478d3f84",
   "metadata": {},
   "outputs": [
    {
     "name": "stdout",
     "output_type": "stream",
     "text": [
      "{'sno': 4, 'sname': ['Rajesh', 'Kumar', 'Rajesh'], 'sal': 25000, 'Addresss': None, 'Age': 20, 'Address': 'PTR'}\n",
      "{'sno': 4, 'sname': ['Rajesh', 'Kumar', 'Rajesh'], 'sal': 25000, 'Addresss': None, 'Age': 20, 'Address': 'VJWD'}\n"
     ]
    }
   ],
   "source": [
    "print(y)\n",
    "y['Address'] = 'VJWD'\n",
    "print(y)"
   ]
  },
  {
   "cell_type": "code",
   "execution_count": 107,
   "id": "bd98782b",
   "metadata": {},
   "outputs": [
    {
     "name": "stdout",
     "output_type": "stream",
     "text": [
      "{'sno': 4, 'sname': ['Rajesh', 'Kumar', 'Rajesh'], 'sal': 25000, 'Addresss': None, 'Age': 20, 'Address': 'VJWD'}\n"
     ]
    },
    {
     "ename": "TypeError",
     "evalue": "pop expected at least 1 argument, got 0",
     "output_type": "error",
     "traceback": [
      "\u001b[1;31m---------------------------------------------------------------------------\u001b[0m",
      "\u001b[1;31mTypeError\u001b[0m                                 Traceback (most recent call last)",
      "Cell \u001b[1;32mIn[107], line 2\u001b[0m\n\u001b[0;32m      1\u001b[0m \u001b[38;5;28mprint\u001b[39m(y)\n\u001b[1;32m----> 2\u001b[0m \u001b[43my\u001b[49m\u001b[38;5;241;43m.\u001b[39;49m\u001b[43mpop\u001b[49m\u001b[43m(\u001b[49m\u001b[43m)\u001b[49m\n\u001b[0;32m      3\u001b[0m \u001b[38;5;28mprint\u001b[39m(y)\n",
      "\u001b[1;31mTypeError\u001b[0m: pop expected at least 1 argument, got 0"
     ]
    }
   ],
   "source": [
    "print(y)\n",
    "y.pop()\n",
    "print(y)"
   ]
  },
  {
   "cell_type": "code",
   "execution_count": 108,
   "id": "b43c7803",
   "metadata": {},
   "outputs": [
    {
     "name": "stdout",
     "output_type": "stream",
     "text": [
      "{'sno': 4, 'sname': ['Rajesh', 'Kumar', 'Rajesh'], 'sal': 25000, 'Addresss': None, 'Age': 20, 'Address': 'VJWD'}\n",
      "{'sno': 4, 'sname': ['Rajesh', 'Kumar', 'Rajesh'], 'sal': 25000, 'Age': 20, 'Address': 'VJWD'}\n"
     ]
    }
   ],
   "source": [
    "print(y)\n",
    "y.pop('Addresss')\n",
    "print(y)"
   ]
  },
  {
   "cell_type": "code",
   "execution_count": 109,
   "id": "cdcbcc9d",
   "metadata": {},
   "outputs": [
    {
     "name": "stdout",
     "output_type": "stream",
     "text": [
      "{'sno': 4, 'sname': ['Rajesh', 'Kumar', 'Rajesh'], 'sal': 25000, 'Age': 20, 'Address': 'VJWD'}\n",
      "{'sno': 4, 'sname': ['Rajesh', 'Kumar', 'Rajesh'], 'sal': 25000, 'Age': 20}\n"
     ]
    }
   ],
   "source": [
    "print(y)\n",
    "y.popitem()\n",
    "print(y)"
   ]
  },
  {
   "cell_type": "code",
   "execution_count": 110,
   "id": "95bee922",
   "metadata": {},
   "outputs": [
    {
     "name": "stdout",
     "output_type": "stream",
     "text": [
      "{'sno': 4, 'sname': ['Rajesh', 'Kumar', 'Rajesh'], 'sal': 25000, 'Age': 20}\n"
     ]
    },
    {
     "ename": "TypeError",
     "evalue": "dict.popitem() takes no arguments (1 given)",
     "output_type": "error",
     "traceback": [
      "\u001b[1;31m---------------------------------------------------------------------------\u001b[0m",
      "\u001b[1;31mTypeError\u001b[0m                                 Traceback (most recent call last)",
      "Cell \u001b[1;32mIn[110], line 2\u001b[0m\n\u001b[0;32m      1\u001b[0m \u001b[38;5;28mprint\u001b[39m(y)\n\u001b[1;32m----> 2\u001b[0m \u001b[43my\u001b[49m\u001b[38;5;241;43m.\u001b[39;49m\u001b[43mpopitem\u001b[49m\u001b[43m(\u001b[49m\u001b[38;5;124;43m'\u001b[39;49m\u001b[38;5;124;43msal\u001b[39;49m\u001b[38;5;124;43m'\u001b[39;49m\u001b[43m)\u001b[49m\n\u001b[0;32m      3\u001b[0m \u001b[38;5;28mprint\u001b[39m(y)\n",
      "\u001b[1;31mTypeError\u001b[0m: dict.popitem() takes no arguments (1 given)"
     ]
    }
   ],
   "source": [
    "print(y)\n",
    "y.popitem('sal')\n",
    "print(y)"
   ]
  },
  {
   "cell_type": "code",
   "execution_count": 111,
   "id": "b9cc5842",
   "metadata": {},
   "outputs": [
    {
     "name": "stdout",
     "output_type": "stream",
     "text": [
      "{'sno': 4, 'sname': ['Rajesh', 'Kumar', 'Rajesh'], 'sal': 25000, 'Age': 20}\n",
      "{'sno': 4, 'sname': ['Rajesh', 'Kumar', 'Rajesh'], 'sal': 25000, 'Age': 20}\n",
      "{'sno': 4, 'sname': ['Rajesh', 'Kumar', 'Rajesh'], 'sal': 25000, 'Age': 20}\n"
     ]
    }
   ],
   "source": [
    "print(y)\n",
    "g = y.copy()\n",
    "print(y)\n",
    "print(g)"
   ]
  },
  {
   "cell_type": "code",
   "execution_count": 112,
   "id": "7a62a56d",
   "metadata": {},
   "outputs": [
    {
     "name": "stdout",
     "output_type": "stream",
     "text": [
      "3028833407360\n",
      "3028832519040\n"
     ]
    }
   ],
   "source": [
    "print(id(y))\n",
    "print(id(g))"
   ]
  },
  {
   "cell_type": "code",
   "execution_count": 113,
   "id": "c2373918",
   "metadata": {},
   "outputs": [
    {
     "name": "stdout",
     "output_type": "stream",
     "text": [
      "{1: None, 2: None, 3: None}\n"
     ]
    }
   ],
   "source": [
    "p = [1,2,3]\n",
    "w = {}\n",
    "print(w.fromkeys(p))"
   ]
  },
  {
   "cell_type": "code",
   "execution_count": 116,
   "id": "3b1f3e71",
   "metadata": {},
   "outputs": [
    {
     "name": "stdout",
     "output_type": "stream",
     "text": [
      "{12: 45, 5: 45}\n"
     ]
    }
   ],
   "source": [
    "z = 45\n",
    "q = [12,5]\n",
    "g = {}\n",
    "g = g.fromkeys(q,z)\n",
    "print(g)"
   ]
  },
  {
   "cell_type": "code",
   "execution_count": 117,
   "id": "207ea3e5",
   "metadata": {},
   "outputs": [
    {
     "name": "stdout",
     "output_type": "stream",
     "text": [
      "{12: 45, 5: 45}\n",
      "{}\n"
     ]
    }
   ],
   "source": [
    "print(g)\n",
    "g.clear()\n",
    "print(g)"
   ]
  },
  {
   "cell_type": "code",
   "execution_count": 118,
   "id": "cd106f9c",
   "metadata": {},
   "outputs": [
    {
     "name": "stdout",
     "output_type": "stream",
     "text": [
      "{'sno': 1}\n"
     ]
    },
    {
     "ename": "NameError",
     "evalue": "name 'j' is not defined",
     "output_type": "error",
     "traceback": [
      "\u001b[1;31m---------------------------------------------------------------------------\u001b[0m",
      "\u001b[1;31mNameError\u001b[0m                                 Traceback (most recent call last)",
      "Cell \u001b[1;32mIn[118], line 4\u001b[0m\n\u001b[0;32m      2\u001b[0m \u001b[38;5;28mprint\u001b[39m(j)\n\u001b[0;32m      3\u001b[0m \u001b[38;5;28;01mdel\u001b[39;00m j\n\u001b[1;32m----> 4\u001b[0m \u001b[38;5;28mprint\u001b[39m(\u001b[43mj\u001b[49m)\n",
      "\u001b[1;31mNameError\u001b[0m: name 'j' is not defined"
     ]
    }
   ],
   "source": [
    "j = {'sno':1}\n",
    "print(j)\n",
    "del j\n",
    "print(j)"
   ]
  },
  {
   "cell_type": "markdown",
   "id": "aeb0accd",
   "metadata": {},
   "source": [
    "## Set:\n",
    "    - It can be represented with {} and stores some value in it\n",
    "    - It stores all data type values\n",
    "    - It stores data in unordered format\n",
    "    - It can changes a value\n",
    "    - It doesnt allow duplicate values\n",
    "    - Slicing can't be done becuase of no index\n",
    "    - It can be typecasted as set()"
   ]
  },
  {
   "cell_type": "code",
   "execution_count": 119,
   "id": "9104b6d3",
   "metadata": {},
   "outputs": [
    {
     "name": "stdout",
     "output_type": "stream",
     "text": [
      "{} <class 'dict'>\n",
      "{'8'} <class 'set'>\n"
     ]
    }
   ],
   "source": [
    "h = {}\n",
    "k = {'8'}\n",
    "print(h,type(h))\n",
    "print(k,type(k))"
   ]
  },
  {
   "cell_type": "code",
   "execution_count": 120,
   "id": "a7cd5fa0",
   "metadata": {},
   "outputs": [
    {
     "name": "stdout",
     "output_type": "stream",
     "text": [
      "{False, None, (7+67j), 20.12, 'Ganesh', 45} <class 'set'>\n"
     ]
    },
    {
     "data": {
      "text/plain": [
       "{(7+67j), 20.12, 45, False, 'Ganesh', None}"
      ]
     },
     "execution_count": 120,
     "metadata": {},
     "output_type": "execute_result"
    }
   ],
   "source": [
    "z = {45,20.12,False,None,7+67j,'Ganesh',45}\n",
    "print(z,type(z))\n",
    "z"
   ]
  },
  {
   "cell_type": "code",
   "execution_count": 121,
   "id": "979d0f8d",
   "metadata": {},
   "outputs": [
    {
     "name": "stdout",
     "output_type": "stream",
     "text": [
      "0 <class 'int'>\n",
      "1 <class 'int'>\n",
      "2 <class 'int'>\n",
      "3 <class 'int'>\n",
      "4 <class 'int'>\n",
      "5 <class 'int'>\n"
     ]
    }
   ],
   "source": [
    "for i in range(len(z)):\n",
    "    print(i,type(i))"
   ]
  },
  {
   "cell_type": "code",
   "execution_count": 122,
   "id": "c755652a",
   "metadata": {},
   "outputs": [
    {
     "ename": "TypeError",
     "evalue": "'set' object is not subscriptable",
     "output_type": "error",
     "traceback": [
      "\u001b[1;31m---------------------------------------------------------------------------\u001b[0m",
      "\u001b[1;31mTypeError\u001b[0m                                 Traceback (most recent call last)",
      "Cell \u001b[1;32mIn[122], line 2\u001b[0m\n\u001b[0;32m      1\u001b[0m \u001b[38;5;28;01mfor\u001b[39;00m i \u001b[38;5;129;01min\u001b[39;00m \u001b[38;5;28mrange\u001b[39m(\u001b[38;5;28mlen\u001b[39m(z)):\n\u001b[1;32m----> 2\u001b[0m     \u001b[38;5;28mprint\u001b[39m(\u001b[43mz\u001b[49m\u001b[43m[\u001b[49m\u001b[43mi\u001b[49m\u001b[43m]\u001b[49m,\u001b[38;5;28mtype\u001b[39m(z[i]))\n",
      "\u001b[1;31mTypeError\u001b[0m: 'set' object is not subscriptable"
     ]
    }
   ],
   "source": [
    "for i in range(len(z)):\n",
    "    print(z[i],type(z[i]))"
   ]
  },
  {
   "cell_type": "code",
   "execution_count": 123,
   "id": "ed4300af",
   "metadata": {},
   "outputs": [
    {
     "name": "stdout",
     "output_type": "stream",
     "text": [
      "False <class 'bool'>\n",
      "None <class 'NoneType'>\n",
      "(7+67j) <class 'complex'>\n",
      "20.12 <class 'float'>\n",
      "Ganesh <class 'str'>\n",
      "45 <class 'int'>\n"
     ]
    }
   ],
   "source": [
    "for i in z:\n",
    "    print(i,type(i))"
   ]
  },
  {
   "cell_type": "code",
   "execution_count": 124,
   "id": "f1a8ae7b",
   "metadata": {},
   "outputs": [
    {
     "name": "stdout",
     "output_type": "stream",
     "text": [
      "['__and__', '__class__', '__class_getitem__', '__contains__', '__delattr__', '__dir__', '__doc__', '__eq__', '__format__', '__ge__', '__getattribute__', '__gt__', '__hash__', '__iand__', '__init__', '__init_subclass__', '__ior__', '__isub__', '__iter__', '__ixor__', '__le__', '__len__', '__lt__', '__ne__', '__new__', '__or__', '__rand__', '__reduce__', '__reduce_ex__', '__repr__', '__ror__', '__rsub__', '__rxor__', '__setattr__', '__sizeof__', '__str__', '__sub__', '__subclasshook__', '__xor__', 'add', 'clear', 'copy', 'difference', 'difference_update', 'discard', 'intersection', 'intersection_update', 'isdisjoint', 'issubset', 'issuperset', 'pop', 'remove', 'symmetric_difference', 'symmetric_difference_update', 'union', 'update']\n"
     ]
    }
   ],
   "source": [
    "print(dir(set))"
   ]
  },
  {
   "cell_type": "code",
   "execution_count": 125,
   "id": "a40445bb",
   "metadata": {},
   "outputs": [
    {
     "name": "stdout",
     "output_type": "stream",
     "text": [
      "{8, 9, 45, 6}\n",
      "{1, 369, 8, 9, 250}\n"
     ]
    }
   ],
   "source": [
    "a = {45,8,9,6}\n",
    "b = {1,8,9,250,369}\n",
    "print(a)\n",
    "print(b)"
   ]
  },
  {
   "cell_type": "code",
   "execution_count": 126,
   "id": "e89046e2",
   "metadata": {},
   "outputs": [
    {
     "name": "stdout",
     "output_type": "stream",
     "text": [
      "{8, 9, 45, 6}\n",
      "{1, 369, 8, 9, 250}\n",
      "{1, 6, 8, 9, 45, 369, 250}\n",
      "{1, 6, 8, 9, 45, 369, 250}\n",
      "{8, 9, 45, 6}\n",
      "{1, 369, 8, 9, 250}\n"
     ]
    }
   ],
   "source": [
    "print(a)\n",
    "print(b)\n",
    "print(a.union(b))\n",
    "print(b.union(a))\n",
    "print(a)\n",
    "print(b)"
   ]
  },
  {
   "cell_type": "code",
   "execution_count": 127,
   "id": "55308bb2",
   "metadata": {},
   "outputs": [
    {
     "name": "stdout",
     "output_type": "stream",
     "text": [
      "{8, 9, 45, 6}\n",
      "{1, 369, 8, 9, 250}\n",
      "{8, 9}\n",
      "{8, 9}\n",
      "{8, 9, 45, 6}\n",
      "{1, 369, 8, 9, 250}\n"
     ]
    }
   ],
   "source": [
    "print(a)\n",
    "print(b)\n",
    "print(a.intersection(b))\n",
    "print(b.intersection(a))\n",
    "print(a)\n",
    "print(b)"
   ]
  },
  {
   "cell_type": "code",
   "execution_count": 128,
   "id": "c01bc325",
   "metadata": {},
   "outputs": [
    {
     "name": "stdout",
     "output_type": "stream",
     "text": [
      "{8, 9, 45, 6}\n",
      "{1, 369, 8, 9, 250}\n",
      "{45, 6}\n",
      "{1, 250, 369}\n",
      "{8, 9, 45, 6}\n",
      "{1, 369, 8, 9, 250}\n"
     ]
    }
   ],
   "source": [
    "print(a)\n",
    "print(b)\n",
    "print(a.difference(b))\n",
    "print(b.difference(a))\n",
    "print(a)\n",
    "print(b)"
   ]
  },
  {
   "cell_type": "code",
   "execution_count": 129,
   "id": "afd809a6",
   "metadata": {},
   "outputs": [
    {
     "name": "stdout",
     "output_type": "stream",
     "text": [
      "{8, 9, 45, 6}\n",
      "{1, 369, 8, 9, 250}\n",
      "{1, 369, 6, 250, 45}\n",
      "{1, 6, 45, 369, 250}\n",
      "{8, 9, 45, 6}\n",
      "{1, 369, 8, 9, 250}\n"
     ]
    }
   ],
   "source": [
    "print(a)\n",
    "print(b)\n",
    "print(a.symmetric_difference(b))\n",
    "print(b.symmetric_difference(a))\n",
    "print(a)\n",
    "print(b)"
   ]
  },
  {
   "cell_type": "code",
   "execution_count": 130,
   "id": "06e32f4d",
   "metadata": {},
   "outputs": [
    {
     "name": "stdout",
     "output_type": "stream",
     "text": [
      "{4, 23}\n",
      "{56, 4, 23}\n"
     ]
    }
   ],
   "source": [
    "y = {4,23}\n",
    "print(y)\n",
    "y.add(56)\n",
    "print(y)"
   ]
  },
  {
   "cell_type": "code",
   "execution_count": 131,
   "id": "c73eeb9a",
   "metadata": {},
   "outputs": [
    {
     "name": "stdout",
     "output_type": "stream",
     "text": [
      "{56, 4, 23}\n"
     ]
    },
    {
     "ename": "TypeError",
     "evalue": "set.add() takes exactly one argument (2 given)",
     "output_type": "error",
     "traceback": [
      "\u001b[1;31m---------------------------------------------------------------------------\u001b[0m",
      "\u001b[1;31mTypeError\u001b[0m                                 Traceback (most recent call last)",
      "Cell \u001b[1;32mIn[131], line 2\u001b[0m\n\u001b[0;32m      1\u001b[0m \u001b[38;5;28mprint\u001b[39m(y)\n\u001b[1;32m----> 2\u001b[0m \u001b[43my\u001b[49m\u001b[38;5;241;43m.\u001b[39;49m\u001b[43madd\u001b[49m\u001b[43m(\u001b[49m\u001b[38;5;241;43m58\u001b[39;49m\u001b[43m,\u001b[49m\u001b[38;5;241;43m23\u001b[39;49m\u001b[43m)\u001b[49m\n\u001b[0;32m      3\u001b[0m \u001b[38;5;28mprint\u001b[39m(y)\n",
      "\u001b[1;31mTypeError\u001b[0m: set.add() takes exactly one argument (2 given)"
     ]
    }
   ],
   "source": [
    "print(y)\n",
    "y.add(58,23)\n",
    "print(y)"
   ]
  },
  {
   "cell_type": "code",
   "execution_count": 132,
   "id": "ecb36c17",
   "metadata": {},
   "outputs": [
    {
     "name": "stdout",
     "output_type": "stream",
     "text": [
      "{56, 4, 23}\n"
     ]
    },
    {
     "ename": "TypeError",
     "evalue": "unhashable type: 'list'",
     "output_type": "error",
     "traceback": [
      "\u001b[1;31m---------------------------------------------------------------------------\u001b[0m",
      "\u001b[1;31mTypeError\u001b[0m                                 Traceback (most recent call last)",
      "Cell \u001b[1;32mIn[132], line 2\u001b[0m\n\u001b[0;32m      1\u001b[0m \u001b[38;5;28mprint\u001b[39m(y)\n\u001b[1;32m----> 2\u001b[0m \u001b[43my\u001b[49m\u001b[38;5;241;43m.\u001b[39;49m\u001b[43madd\u001b[49m\u001b[43m(\u001b[49m\u001b[43m[\u001b[49m\u001b[38;5;241;43m15\u001b[39;49m\u001b[43m,\u001b[49m\u001b[38;5;241;43m9\u001b[39;49m\u001b[43m]\u001b[49m\u001b[43m)\u001b[49m\n\u001b[0;32m      3\u001b[0m \u001b[38;5;28mprint\u001b[39m(y)\n",
      "\u001b[1;31mTypeError\u001b[0m: unhashable type: 'list'"
     ]
    }
   ],
   "source": [
    "print(y)\n",
    "y.add([15,9])\n",
    "print(y)"
   ]
  },
  {
   "cell_type": "code",
   "execution_count": 133,
   "id": "c0d51aef",
   "metadata": {},
   "outputs": [
    {
     "name": "stdout",
     "output_type": "stream",
     "text": [
      "{56, 4, 23}\n",
      "{56, 4, (3, 6, 7), 23}\n"
     ]
    }
   ],
   "source": [
    "print(y)\n",
    "y.add((3,6,7))\n",
    "print(y)"
   ]
  },
  {
   "cell_type": "code",
   "execution_count": 134,
   "id": "8841f113",
   "metadata": {},
   "outputs": [
    {
     "name": "stdout",
     "output_type": "stream",
     "text": [
      "{56, 4, (3, 6, 7), 23}\n"
     ]
    },
    {
     "ename": "TypeError",
     "evalue": "unhashable type: 'set'",
     "output_type": "error",
     "traceback": [
      "\u001b[1;31m---------------------------------------------------------------------------\u001b[0m",
      "\u001b[1;31mTypeError\u001b[0m                                 Traceback (most recent call last)",
      "Cell \u001b[1;32mIn[134], line 2\u001b[0m\n\u001b[0;32m      1\u001b[0m \u001b[38;5;28mprint\u001b[39m(y)\n\u001b[1;32m----> 2\u001b[0m \u001b[43my\u001b[49m\u001b[38;5;241;43m.\u001b[39;49m\u001b[43madd\u001b[49m\u001b[43m(\u001b[49m\u001b[43m{\u001b[49m\u001b[38;5;241;43m1\u001b[39;49m\u001b[43m,\u001b[49m\u001b[38;5;241;43m56\u001b[39;49m\u001b[43m,\u001b[49m\u001b[38;5;241;43m320\u001b[39;49m\u001b[43m,\u001b[49m\u001b[38;5;241;43m125\u001b[39;49m\u001b[43m}\u001b[49m\u001b[43m)\u001b[49m\n\u001b[0;32m      3\u001b[0m \u001b[38;5;28mprint\u001b[39m(y)\n",
      "\u001b[1;31mTypeError\u001b[0m: unhashable type: 'set'"
     ]
    }
   ],
   "source": [
    "print(y)\n",
    "y.add({1,56,320,125})\n",
    "print(y)"
   ]
  },
  {
   "cell_type": "code",
   "execution_count": 135,
   "id": "494eef4b",
   "metadata": {},
   "outputs": [
    {
     "name": "stdout",
     "output_type": "stream",
     "text": [
      "{12}\n"
     ]
    },
    {
     "ename": "TypeError",
     "evalue": "'int' object is not iterable",
     "output_type": "error",
     "traceback": [
      "\u001b[1;31m---------------------------------------------------------------------------\u001b[0m",
      "\u001b[1;31mTypeError\u001b[0m                                 Traceback (most recent call last)",
      "Cell \u001b[1;32mIn[135], line 3\u001b[0m\n\u001b[0;32m      1\u001b[0m p \u001b[38;5;241m=\u001b[39m {\u001b[38;5;241m12\u001b[39m}\n\u001b[0;32m      2\u001b[0m \u001b[38;5;28mprint\u001b[39m(p)\n\u001b[1;32m----> 3\u001b[0m \u001b[43mp\u001b[49m\u001b[38;5;241;43m.\u001b[39;49m\u001b[43mupdate\u001b[49m\u001b[43m(\u001b[49m\u001b[38;5;241;43m35\u001b[39;49m\u001b[43m)\u001b[49m\n\u001b[0;32m      4\u001b[0m \u001b[38;5;28mprint\u001b[39m(p)\n",
      "\u001b[1;31mTypeError\u001b[0m: 'int' object is not iterable"
     ]
    }
   ],
   "source": [
    "p = {12}\n",
    "print(p)\n",
    "p.update(35)\n",
    "print(p)"
   ]
  },
  {
   "cell_type": "code",
   "execution_count": 136,
   "id": "5bc101f0",
   "metadata": {},
   "outputs": [
    {
     "name": "stdout",
     "output_type": "stream",
     "text": [
      "{12}\n",
      "{1, 2, 6, 9, 12}\n"
     ]
    }
   ],
   "source": [
    "print(p)\n",
    "p.update((1,2,9,6))\n",
    "print(p)"
   ]
  },
  {
   "cell_type": "code",
   "execution_count": 137,
   "id": "08ff1957",
   "metadata": {},
   "outputs": [
    {
     "name": "stdout",
     "output_type": "stream",
     "text": [
      "{1, 2, 6, 9, 12}\n",
      "{1, 2, 6, 12}\n"
     ]
    }
   ],
   "source": [
    "print(p)\n",
    "p.discard(9)\n",
    "print(p)"
   ]
  },
  {
   "cell_type": "code",
   "execution_count": 138,
   "id": "8c1475ad",
   "metadata": {},
   "outputs": [
    {
     "name": "stdout",
     "output_type": "stream",
     "text": [
      "{1, 2, 6, 12}\n",
      "{2, 6, 12}\n"
     ]
    }
   ],
   "source": [
    "print(p)\n",
    "p.pop()\n",
    "print(p)"
   ]
  },
  {
   "cell_type": "code",
   "execution_count": 139,
   "id": "564238e1",
   "metadata": {},
   "outputs": [
    {
     "name": "stdout",
     "output_type": "stream",
     "text": [
      "{2, 6, 12}\n"
     ]
    },
    {
     "ename": "TypeError",
     "evalue": "set.pop() takes no arguments (1 given)",
     "output_type": "error",
     "traceback": [
      "\u001b[1;31m---------------------------------------------------------------------------\u001b[0m",
      "\u001b[1;31mTypeError\u001b[0m                                 Traceback (most recent call last)",
      "Cell \u001b[1;32mIn[139], line 2\u001b[0m\n\u001b[0;32m      1\u001b[0m \u001b[38;5;28mprint\u001b[39m(p)\n\u001b[1;32m----> 2\u001b[0m \u001b[43mp\u001b[49m\u001b[38;5;241;43m.\u001b[39;49m\u001b[43mpop\u001b[49m\u001b[43m(\u001b[49m\u001b[38;5;241;43m6\u001b[39;49m\u001b[43m)\u001b[49m\n\u001b[0;32m      3\u001b[0m \u001b[38;5;28mprint\u001b[39m(p)\n",
      "\u001b[1;31mTypeError\u001b[0m: set.pop() takes no arguments (1 given)"
     ]
    }
   ],
   "source": [
    "print(p)\n",
    "p.pop(6)\n",
    "print(p)"
   ]
  },
  {
   "cell_type": "code",
   "execution_count": 141,
   "id": "a5401abd",
   "metadata": {},
   "outputs": [
    {
     "name": "stdout",
     "output_type": "stream",
     "text": [
      "{8, 9, 12, 6}\n",
      "{23, 5, 6, 7}\n",
      "{6}\n",
      "{23, 5, 6, 7}\n"
     ]
    }
   ],
   "source": [
    "s = {12,8,9,6}\n",
    "q = {23,5,6,7}\n",
    "print(s)\n",
    "print(q)\n",
    "s.intersection_update(q)\n",
    "print(s)\n",
    "print(q)"
   ]
  },
  {
   "cell_type": "code",
   "execution_count": 142,
   "id": "33b46d65",
   "metadata": {},
   "outputs": [
    {
     "name": "stdout",
     "output_type": "stream",
     "text": [
      "{89, 2, 564, 1}\n",
      "{1, 250, 564, 23}\n",
      "{89, 2, 564, 1}\n",
      "{23, 250}\n"
     ]
    }
   ],
   "source": [
    "k = {1,89,564,2}\n",
    "z = {250,564,23,1}\n",
    "print(k)\n",
    "print(z)\n",
    "z.difference_update(k)\n",
    "print(k)\n",
    "print(z)"
   ]
  },
  {
   "cell_type": "code",
   "execution_count": 143,
   "id": "d7eb77f2",
   "metadata": {},
   "outputs": [
    {
     "name": "stdout",
     "output_type": "stream",
     "text": [
      "{8, 12, 5}\n",
      "{56, 963, 12}\n",
      "{963, 5, 8, 56}\n",
      "{56, 963, 12}\n"
     ]
    }
   ],
   "source": [
    "c = {12,8,5}\n",
    "d = {12,56,963}\n",
    "print(c)\n",
    "print(d)\n",
    "c.symmetric_difference_update(d)\n",
    "print(c)\n",
    "print(d)"
   ]
  },
  {
   "cell_type": "markdown",
   "id": "2165d737",
   "metadata": {},
   "source": [
    "## String:\n",
    "    - Enclosed with ' or \""
   ]
  },
  {
   "cell_type": "code",
   "execution_count": 144,
   "id": "ffd8f47d",
   "metadata": {},
   "outputs": [
    {
     "name": "stdout",
     "output_type": "stream",
     "text": [
      "This is an Example <class 'str'>\n"
     ]
    }
   ],
   "source": [
    "d = \"This is an Example\"\n",
    "print(d,type(d))"
   ]
  },
  {
   "cell_type": "code",
   "execution_count": 145,
   "id": "ddca2d31",
   "metadata": {},
   "outputs": [
    {
     "name": "stdout",
     "output_type": "stream",
     "text": [
      "0 <class 'int'>\n",
      "1 <class 'int'>\n",
      "2 <class 'int'>\n",
      "3 <class 'int'>\n",
      "4 <class 'int'>\n",
      "5 <class 'int'>\n",
      "6 <class 'int'>\n",
      "7 <class 'int'>\n",
      "8 <class 'int'>\n",
      "9 <class 'int'>\n",
      "10 <class 'int'>\n",
      "11 <class 'int'>\n",
      "12 <class 'int'>\n",
      "13 <class 'int'>\n",
      "14 <class 'int'>\n",
      "15 <class 'int'>\n",
      "16 <class 'int'>\n",
      "17 <class 'int'>\n"
     ]
    }
   ],
   "source": [
    "for i in range(len(d)):\n",
    "    print(i,type(i))"
   ]
  },
  {
   "cell_type": "code",
   "execution_count": 146,
   "id": "eeb2106b",
   "metadata": {},
   "outputs": [
    {
     "name": "stdout",
     "output_type": "stream",
     "text": [
      "T <class 'str'>\n",
      "h <class 'str'>\n",
      "i <class 'str'>\n",
      "s <class 'str'>\n",
      "  <class 'str'>\n",
      "i <class 'str'>\n",
      "s <class 'str'>\n",
      "  <class 'str'>\n",
      "a <class 'str'>\n",
      "n <class 'str'>\n",
      "  <class 'str'>\n",
      "E <class 'str'>\n",
      "x <class 'str'>\n",
      "a <class 'str'>\n",
      "m <class 'str'>\n",
      "p <class 'str'>\n",
      "l <class 'str'>\n",
      "e <class 'str'>\n"
     ]
    }
   ],
   "source": [
    "for i in range(len(d)):\n",
    "    print(d[i],type(d[i]))"
   ]
  },
  {
   "cell_type": "code",
   "execution_count": 147,
   "id": "9cb73ef4",
   "metadata": {},
   "outputs": [
    {
     "name": "stdout",
     "output_type": "stream",
     "text": [
      "['__add__', '__class__', '__contains__', '__delattr__', '__dir__', '__doc__', '__eq__', '__format__', '__ge__', '__getattribute__', '__getitem__', '__getnewargs__', '__gt__', '__hash__', '__init__', '__init_subclass__', '__iter__', '__le__', '__len__', '__lt__', '__mod__', '__mul__', '__ne__', '__new__', '__reduce__', '__reduce_ex__', '__repr__', '__rmod__', '__rmul__', '__setattr__', '__sizeof__', '__str__', '__subclasshook__', 'capitalize', 'casefold', 'center', 'count', 'encode', 'endswith', 'expandtabs', 'find', 'format', 'format_map', 'index', 'isalnum', 'isalpha', 'isascii', 'isdecimal', 'isdigit', 'isidentifier', 'islower', 'isnumeric', 'isprintable', 'isspace', 'istitle', 'isupper', 'join', 'ljust', 'lower', 'lstrip', 'maketrans', 'partition', 'removeprefix', 'removesuffix', 'replace', 'rfind', 'rindex', 'rjust', 'rpartition', 'rsplit', 'rstrip', 'split', 'splitlines', 'startswith', 'strip', 'swapcase', 'title', 'translate', 'upper', 'zfill']\n"
     ]
    }
   ],
   "source": [
    "print(dir(str))"
   ]
  },
  {
   "cell_type": "code",
   "execution_count": 148,
   "id": "7d4a00ec",
   "metadata": {},
   "outputs": [
    {
     "name": "stdout",
     "output_type": "stream",
     "text": [
      " This Is An Example\n",
      " tHIS is AN eXAMpLE\n",
      " this is an example\n",
      " this is an example\n",
      " THIS IS AN EXAMPLE\n",
      " this is an example\n"
     ]
    }
   ],
   "source": [
    "k = \" This IS an ExamPle\"\n",
    "print(k.title())\n",
    "print(k.swapcase())\n",
    "print(k.capitalize())\n",
    "print(k.casefold())\n",
    "print(k.upper())\n",
    "print(k.lower())"
   ]
  },
  {
   "cell_type": "code",
   "execution_count": 149,
   "id": "dfc85d70",
   "metadata": {},
   "outputs": [
    {
     "name": "stdout",
     "output_type": "stream",
     "text": [
      "Sample Example\n",
      "  Sample Example\n",
      "Sample Example \n"
     ]
    }
   ],
   "source": [
    "b = \"  Sample Example \"\n",
    "print(b.strip())\n",
    "print(b.rstrip())\n",
    "print(b.lstrip())"
   ]
  },
  {
   "cell_type": "code",
   "execution_count": 151,
   "id": "5e48231b",
   "metadata": {},
   "outputs": [
    {
     "name": "stdout",
     "output_type": "stream",
     "text": [
      "                          Sample Example for Just \n",
      "   Sample Example for Just                        \n",
      "              Sample Example for Just             \n",
      "00000000000000000000000   Sample Example for Just \n"
     ]
    }
   ],
   "source": [
    "y = \"   Sample Example for Just \"\n",
    "print(y.rjust(50))\n",
    "print(y.ljust(50))\n",
    "print(y.center(50))\n",
    "print(y.zfill(50))"
   ]
  },
  {
   "cell_type": "code",
   "execution_count": 152,
   "id": "e5152b8c",
   "metadata": {},
   "outputs": [
    {
     "name": "stdout",
     "output_type": "stream",
     "text": [
      "Sample Example for split\n",
      "['Sample', 'Example', 'for', 'split']\n",
      "['Sampl', ' Exampl', ' for split']\n"
     ]
    }
   ],
   "source": [
    "h = \"Sample Example for split\"\n",
    "print(h)\n",
    "print(h.split())\n",
    "print(h.split('e'))"
   ]
  },
  {
   "cell_type": "code",
   "execution_count": 153,
   "id": "3211a580",
   "metadata": {},
   "outputs": [
    {
     "name": "stdout",
     "output_type": "stream",
     "text": [
      "3 4 5 2\n",
      "['3', '4', '5', '2'] <class 'list'>\n"
     ]
    }
   ],
   "source": [
    "n = input().split()\n",
    "print(n,type(n))"
   ]
  },
  {
   "cell_type": "code",
   "execution_count": 154,
   "id": "c3168948",
   "metadata": {},
   "outputs": [
    {
     "name": "stdout",
     "output_type": "stream",
     "text": [
      "10,56,89\n",
      "['10', '56', '89'] <class 'list'>\n"
     ]
    }
   ],
   "source": [
    "n = input().split(',')\n",
    "print(n,type(n))"
   ]
  },
  {
   "cell_type": "code",
   "execution_count": 157,
   "id": "3c043f52",
   "metadata": {},
   "outputs": [
    {
     "name": "stdout",
     "output_type": "stream",
     "text": [
      "Sample for Index\n",
      "5\n",
      "14\n",
      "7\n",
      "14\n"
     ]
    }
   ],
   "source": [
    "z = \"Sample for Index\"\n",
    "print(z)\n",
    "print(z.index('e'))\n",
    "print(z.rindex('e'))\n",
    "print(z.find('f'))\n",
    "print(z.rfind('e'))"
   ]
  },
  {
   "cell_type": "code",
   "execution_count": 158,
   "id": "95d36fd1",
   "metadata": {},
   "outputs": [
    {
     "ename": "ValueError",
     "evalue": "substring not found",
     "output_type": "error",
     "traceback": [
      "\u001b[1;31m---------------------------------------------------------------------------\u001b[0m",
      "\u001b[1;31mValueError\u001b[0m                                Traceback (most recent call last)",
      "Cell \u001b[1;32mIn[158], line 1\u001b[0m\n\u001b[1;32m----> 1\u001b[0m \u001b[38;5;28mprint\u001b[39m(\u001b[43mz\u001b[49m\u001b[38;5;241;43m.\u001b[39;49m\u001b[43mrindex\u001b[49m\u001b[43m(\u001b[49m\u001b[38;5;124;43m'\u001b[39;49m\u001b[38;5;124;43mz\u001b[39;49m\u001b[38;5;124;43m'\u001b[39;49m\u001b[43m)\u001b[49m)\n",
      "\u001b[1;31mValueError\u001b[0m: substring not found"
     ]
    }
   ],
   "source": [
    "print(z.rindex('z'))"
   ]
  },
  {
   "cell_type": "code",
   "execution_count": 159,
   "id": "b8ba439a",
   "metadata": {},
   "outputs": [
    {
     "name": "stdout",
     "output_type": "stream",
     "text": [
      "-1\n"
     ]
    }
   ],
   "source": [
    "print(z.rfind('z'))"
   ]
  },
  {
   "cell_type": "code",
   "execution_count": 160,
   "id": "12134a16",
   "metadata": {},
   "outputs": [
    {
     "name": "stdout",
     "output_type": "stream",
     "text": [
      "Sample for Index\n",
      "2\n",
      "0\n"
     ]
    }
   ],
   "source": [
    "print(z)\n",
    "print(z.count('e'))\n",
    "print(z.count('q'))"
   ]
  },
  {
   "cell_type": "code",
   "execution_count": 161,
   "id": "43772802",
   "metadata": {},
   "outputs": [
    {
     "name": "stdout",
     "output_type": "stream",
     "text": [
      "Sample for Index\n",
      "Wample for Index\n",
      "Sample for Index\n"
     ]
    }
   ],
   "source": [
    "print(z)\n",
    "print(z.replace('S','W'))\n",
    "print(z)"
   ]
  },
  {
   "cell_type": "code",
   "execution_count": 162,
   "id": "5c29117e",
   "metadata": {},
   "outputs": [
    {
     "name": "stdout",
     "output_type": "stream",
     "text": [
      "S-a-m-p-l-e- -i-n-p-u-t\n"
     ]
    }
   ],
   "source": [
    "m = \"Sample input\"\n",
    "v = \"-\".join(m)\n",
    "print(v)"
   ]
  },
  {
   "cell_type": "code",
   "execution_count": null,
   "id": "c66f5646",
   "metadata": {},
   "outputs": [],
   "source": []
  }
 ],
 "metadata": {
  "kernelspec": {
   "display_name": "Python 3 (ipykernel)",
   "language": "python",
   "name": "python3"
  },
  "language_info": {
   "codemirror_mode": {
    "name": "ipython",
    "version": 3
   },
   "file_extension": ".py",
   "mimetype": "text/x-python",
   "name": "python",
   "nbconvert_exporter": "python",
   "pygments_lexer": "ipython3",
   "version": "3.9.13"
  }
 },
 "nbformat": 4,
 "nbformat_minor": 5
}
