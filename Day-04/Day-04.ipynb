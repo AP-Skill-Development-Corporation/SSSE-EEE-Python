{
 "cells": [
  {
   "cell_type": "markdown",
   "id": "4c25c38c",
   "metadata": {},
   "source": [
    "## Loops or Iterations or Repitions\n",
    "    - To execute a statement of n number of statements for n number of times\n",
    "    - for => known ranges\n",
    "    - while => known and unknown ranges"
   ]
  },
  {
   "cell_type": "markdown",
   "id": "212a34dd",
   "metadata": {},
   "source": [
    "## For\n",
    "    Syntax:\n",
    "        for iterationvariablename in range(start,stop,step):\n",
    "            //statements\n",
    "                    or\n",
    "        for iterationvarialbename in iterator:\n",
    "            //statements\n",
    "            \n",
    "        Itreator => List,Tuple,Set and Dictionary"
   ]
  },
  {
   "cell_type": "markdown",
   "id": "c6c30cc3",
   "metadata": {},
   "source": [
    "## range:"
   ]
  },
  {
   "cell_type": "markdown",
   "id": "e301cf05",
   "metadata": {},
   "source": [
    "    - range(stop):\n",
    "        => By default it starts with 0\n",
    "        => By default it increments with +1\n",
    "        => It stops value at stop-1 value\n",
    "        Ex:\n",
    "            range(6)\n",
    "                0 1 2 3 4 5\n",
    "    - range(start,stop):\n",
    "        => It exactly starts with start value\n",
    "        => By default it increments with +1 value\n",
    "        => It stops with stop-1 value\n",
    "        Ex:\n",
    "            range(2,10)\n",
    "                2 3 4 5 6 7 8 9\n",
    "    - range(start,stop,step):\n",
    "        => It exactly starts with start value\n",
    "        => It increments/decrements with step value\n",
    "        => It stops with stop-1 value\n",
    "        Ex:\n",
    "            range(5,10,3)\n",
    "                5 8"
   ]
  },
  {
   "cell_type": "code",
   "execution_count": 4,
   "id": "749f5c43",
   "metadata": {},
   "outputs": [
    {
     "name": "stdout",
     "output_type": "stream",
     "text": [
      "Enter a range: 5\n",
      "0 1 2 3 4 "
     ]
    }
   ],
   "source": [
    "n = int(input(\"Enter a range: \"))\n",
    "for i in range(n):\n",
    "    print(i,end=\" \")"
   ]
  },
  {
   "cell_type": "code",
   "execution_count": 5,
   "id": "5658e6ee",
   "metadata": {},
   "outputs": [
    {
     "name": "stdout",
     "output_type": "stream",
     "text": [
      "print(value, ..., sep=' ', end='\\n', file=sys.stdout, flush=False)\n",
      "\n",
      "Prints the values to a stream, or to sys.stdout by default.\n",
      "Optional keyword arguments:\n",
      "file:  a file-like object (stream); defaults to the current sys.stdout.\n",
      "sep:   string inserted between values, default a space.\n",
      "end:   string appended after the last value, default a newline.\n",
      "flush: whether to forcibly flush the stream.\n"
     ]
    }
   ],
   "source": [
    "print(print.__doc__)"
   ]
  },
  {
   "cell_type": "code",
   "execution_count": 6,
   "id": "01c16505",
   "metadata": {},
   "outputs": [
    {
     "name": "stdout",
     "output_type": "stream",
     "text": [
      "Help on built-in function print in module builtins:\n",
      "\n",
      "print(...)\n",
      "    print(value, ..., sep=' ', end='\\n', file=sys.stdout, flush=False)\n",
      "    \n",
      "    Prints the values to a stream, or to sys.stdout by default.\n",
      "    Optional keyword arguments:\n",
      "    file:  a file-like object (stream); defaults to the current sys.stdout.\n",
      "    sep:   string inserted between values, default a space.\n",
      "    end:   string appended after the last value, default a newline.\n",
      "    flush: whether to forcibly flush the stream.\n",
      "\n"
     ]
    }
   ],
   "source": [
    "help(print)"
   ]
  },
  {
   "cell_type": "code",
   "execution_count": 7,
   "id": "fb3bad5e",
   "metadata": {},
   "outputs": [
    {
     "name": "stdout",
     "output_type": "stream",
     "text": [
      "Enter a range: 5\n",
      "1 2 3 4 5 "
     ]
    }
   ],
   "source": [
    "h = int(input(\"Enter a range: \"))\n",
    "for j in range(h):\n",
    "    print(j+1,end=\" \")"
   ]
  },
  {
   "cell_type": "markdown",
   "id": "787778fc",
   "metadata": {},
   "source": [
    "```\n",
    "    Task:\n",
    "    =====\n",
    "        Input:\n",
    "            8\n",
    "        Output:\n",
    "            2,-1,2,-1,2,-1,2,-1,\n",
    "```"
   ]
  },
  {
   "cell_type": "code",
   "execution_count": 8,
   "id": "610d4253",
   "metadata": {},
   "outputs": [
    {
     "name": "stdout",
     "output_type": "stream",
     "text": [
      "8\n",
      "2,-1,2,-1,2,-1,2,-1,"
     ]
    }
   ],
   "source": [
    "m = int(input())\n",
    "for i in range(m):\n",
    "    if i%2==0:\n",
    "        print(\"2\",end=\",\")\n",
    "    else:\n",
    "        print(\"-1\",end=\",\")"
   ]
  },
  {
   "cell_type": "code",
   "execution_count": 9,
   "id": "58fa20d8",
   "metadata": {},
   "outputs": [
    {
     "name": "stdout",
     "output_type": "stream",
     "text": [
      "Enter Starting range: 10\n",
      "Enter Ending range: 20\n",
      "10 11 12 13 14 15 16 17 18 19 "
     ]
    }
   ],
   "source": [
    "n = int(input(\"Enter Starting range: \"))\n",
    "m = int(input(\"Enter Ending range: \"))\n",
    "for i in range(n,m):\n",
    "    print(i,end=\" \")"
   ]
  },
  {
   "cell_type": "code",
   "execution_count": 11,
   "id": "dabc79d8",
   "metadata": {},
   "outputs": [
    {
     "name": "stdout",
     "output_type": "stream",
     "text": [
      "Enter Starting range: 10\n",
      "Enter Ending range: 20\n",
      "19 18 17 16 15 14 13 12 11 10 "
     ]
    }
   ],
   "source": [
    "n = int(input(\"Enter Starting range: \"))\n",
    "m = int(input(\"Enter Ending range: \"))\n",
    "for i in range(n,m):\n",
    "    print(n+m-i-1,end=\" \")"
   ]
  },
  {
   "cell_type": "markdown",
   "id": "2b912df7",
   "metadata": {},
   "source": [
    "```\n",
    "    Task:\n",
    "    =====\n",
    "        Input:\n",
    "            10\n",
    "            20\n",
    "            5\n",
    "        Output:\n",
    "            10 15\n",
    "        \n",
    "        Input:\n",
    "            5\n",
    "            10\n",
    "            3\n",
    "        Output:\n",
    "            6 9\n",
    "```"
   ]
  },
  {
   "cell_type": "code",
   "execution_count": 15,
   "id": "0083340f",
   "metadata": {},
   "outputs": [
    {
     "name": "stdout",
     "output_type": "stream",
     "text": [
      "5\n",
      "10\n",
      "3\n",
      "6 9 "
     ]
    }
   ],
   "source": [
    "n = int(input())\n",
    "m = int(input())\n",
    "k = int(input())\n",
    "for i in range(n,m):\n",
    "    if i%k==0:\n",
    "        print(i,end=\" \")"
   ]
  },
  {
   "cell_type": "markdown",
   "id": "12a4649c",
   "metadata": {},
   "source": [
    "```\n",
    "    Task:\n",
    "    =====\n",
    "        Input:\n",
    "            5\n",
    "            12\n",
    "        Output:\n",
    "            05    11\n",
    "            06    10\n",
    "            07    09\n",
    "            08    08\n",
    "            09    07\n",
    "            10    06\n",
    "            11    05\n",
    "```"
   ]
  },
  {
   "cell_type": "code",
   "execution_count": 20,
   "id": "96a40f98",
   "metadata": {},
   "outputs": [
    {
     "name": "stdout",
     "output_type": "stream",
     "text": [
      "5\n",
      "12\n",
      "05\t11\n",
      "06\t10\n",
      "07\t09\n",
      "08\t08\n",
      "09\t07\n",
      "10\t06\n",
      "11\t05\n"
     ]
    }
   ],
   "source": [
    "n = int(input())\n",
    "m = int(input())\n",
    "for i in range(n,m):\n",
    "    print(f\"{i:02}\\t{n+m-i-1:02}\")"
   ]
  },
  {
   "cell_type": "code",
   "execution_count": 25,
   "id": "dc3980dc",
   "metadata": {},
   "outputs": [
    {
     "name": "stdout",
     "output_type": "stream",
     "text": [
      "Enter Start range: 20\n",
      "Enter End range: -10\n",
      "Enter Step range: -2\n",
      "20 18 16 14 12 10 8 6 4 2 0 -2 -4 -6 -8 "
     ]
    }
   ],
   "source": [
    "n = int(input(\"Enter Start range: \"))\n",
    "m = int(input(\"Enter End range: \"))\n",
    "k = int(input(\"Enter Step range: \"))\n",
    "for i in range(n,m,k):\n",
    "    print(i,end=\" \")"
   ]
  },
  {
   "cell_type": "markdown",
   "id": "58e4bc9c",
   "metadata": {},
   "source": [
    "## While:\n",
    "    Syntax:\n",
    "        initialization\n",
    "        while condition:\n",
    "            //statements\n",
    "            incr/decr"
   ]
  },
  {
   "cell_type": "code",
   "execution_count": 28,
   "id": "c3fea6b8",
   "metadata": {},
   "outputs": [
    {
     "name": "stdout",
     "output_type": "stream",
     "text": [
      "Enter a range: 5\n",
      "0 1 2 3 4 "
     ]
    }
   ],
   "source": [
    "i = 0\n",
    "n = int(input(\"Enter a range: \"))\n",
    "while i<n:\n",
    "    print(i,end=\" \")\n",
    "    i+=1"
   ]
  },
  {
   "cell_type": "code",
   "execution_count": 30,
   "id": "107df619",
   "metadata": {},
   "outputs": [
    {
     "name": "stdout",
     "output_type": "stream",
     "text": [
      "Enter a range: 5\n",
      "4 3 2 1 0 "
     ]
    }
   ],
   "source": [
    "n = int(input(\"Enter a range: \"))\n",
    "while n!=0:\n",
    "    n-=1\n",
    "    print(n,end=\" \")"
   ]
  },
  {
   "cell_type": "code",
   "execution_count": 36,
   "id": "2135281f",
   "metadata": {},
   "outputs": [
    {
     "name": "stdout",
     "output_type": "stream",
     "text": [
      "Enter a number: 4568\n",
      "Entered number is: 4568 and its reverse is: 8654\n"
     ]
    }
   ],
   "source": [
    "k = int(input(\"Enter a number: \"))\n",
    "m = 0\n",
    "print(f\"Entered number is: {k}\" \n",
    "      \" and its reverse is: \",end=\"\")\n",
    "while k!=0:\n",
    "    m = m*10+k%10\n",
    "    k//=10\n",
    "print(m)"
   ]
  },
  {
   "cell_type": "code",
   "execution_count": 32,
   "id": "8acb0eec",
   "metadata": {},
   "outputs": [
    {
     "data": {
      "text/plain": [
       "4789"
      ]
     },
     "execution_count": 32,
     "metadata": {},
     "output_type": "execute_result"
    }
   ],
   "source": [
    "k//10"
   ]
  },
  {
   "cell_type": "markdown",
   "id": "228db489",
   "metadata": {},
   "source": [
    "## Jumping Statements:\n",
    "    - break => It exists from a loop\n",
    "    - continue => It skips a value from a loop\n",
    "    - pass => It works like continue but for future enhancements we can use pass\n",
    "    - return => It returns single or n number of values"
   ]
  },
  {
   "cell_type": "code",
   "execution_count": 38,
   "id": "fe05d9fd",
   "metadata": {},
   "outputs": [
    {
     "name": "stdout",
     "output_type": "stream",
     "text": [
      "Enter a range: 500\n",
      "0 1 2 3 "
     ]
    }
   ],
   "source": [
    "n = int(input(\"Enter a range: \"))\n",
    "for i in range(n):\n",
    "    if i == 4:\n",
    "        break\n",
    "    else:\n",
    "        print(i,end=\" \")"
   ]
  },
  {
   "cell_type": "code",
   "execution_count": 39,
   "id": "e4688307",
   "metadata": {},
   "outputs": [
    {
     "name": "stdout",
     "output_type": "stream",
     "text": [
      "Enter a range: 10\n",
      "0 1 2 3 5 6 7 8 9 "
     ]
    }
   ],
   "source": [
    "n = int(input(\"Enter a range: \"))\n",
    "for i in range(n):\n",
    "    if i == 4:\n",
    "        continue\n",
    "    else:\n",
    "        print(i,end=\" \")"
   ]
  },
  {
   "cell_type": "code",
   "execution_count": 40,
   "id": "d5ef4217",
   "metadata": {},
   "outputs": [
    {
     "name": "stdout",
     "output_type": "stream",
     "text": [
      "Enter a range: 20\n",
      "0 1 2 3 5 6 7 8 9 11 12 13 14 16 17 18 19 "
     ]
    }
   ],
   "source": [
    "n = int(input(\"Enter a range: \"))\n",
    "for i in range(n):\n",
    "    if i == 4 or i == 10 or i == 15:\n",
    "        continue\n",
    "    else:\n",
    "        print(i,end=\" \")"
   ]
  },
  {
   "cell_type": "code",
   "execution_count": 41,
   "id": "70348869",
   "metadata": {},
   "outputs": [
    {
     "name": "stdout",
     "output_type": "stream",
     "text": [
      "Enter a range: 10\n",
      "0 1 2 3 5 6 7 8 9 "
     ]
    }
   ],
   "source": [
    "n = int(input(\"Enter a range: \"))\n",
    "for i in range(n):\n",
    "    if i == 4:\n",
    "        pass\n",
    "    else:\n",
    "        print(i,end=\" \")"
   ]
  },
  {
   "cell_type": "code",
   "execution_count": 42,
   "id": "21fa82de",
   "metadata": {},
   "outputs": [
    {
     "name": "stdout",
     "output_type": "stream",
     "text": [
      "Enter a range: 10\n",
      "0 1 2 3 4 5 6 7 8 9 "
     ]
    }
   ],
   "source": [
    "n = int(input(\"Enter a range: \"))\n",
    "for i in range(n):\n",
    "    if i == 4:\n",
    "        pass\n",
    "    print(i,end=\" \")"
   ]
  },
  {
   "cell_type": "markdown",
   "id": "99f61e2d",
   "metadata": {},
   "source": [
    "## Nested Loop or Inner Loop\n",
    "    - Loop within a Loop"
   ]
  },
  {
   "cell_type": "code",
   "execution_count": 47,
   "id": "1b17ab68",
   "metadata": {},
   "outputs": [
    {
     "name": "stdout",
     "output_type": "stream",
     "text": [
      "Enter a range: 5\n",
      "00 01 02 03 04 \n",
      "10 11 12 13 14 \n",
      "20 21 22 23 24 \n",
      "30 31 32 33 34 \n",
      "40 41 42 43 44 \n"
     ]
    }
   ],
   "source": [
    "n = int(input(\"Enter a range: \"))\n",
    "for i in range(n):\n",
    "    for j in range(n):\n",
    "        print(f\"{i}{j}\",end=\" \")\n",
    "    print()"
   ]
  },
  {
   "cell_type": "code",
   "execution_count": null,
   "id": "5bef390c",
   "metadata": {},
   "outputs": [],
   "source": []
  }
 ],
 "metadata": {
  "kernelspec": {
   "display_name": "Python 3 (ipykernel)",
   "language": "python",
   "name": "python3"
  },
  "language_info": {
   "codemirror_mode": {
    "name": "ipython",
    "version": 3
   },
   "file_extension": ".py",
   "mimetype": "text/x-python",
   "name": "python",
   "nbconvert_exporter": "python",
   "pygments_lexer": "ipython3",
   "version": "3.9.13"
  }
 },
 "nbformat": 4,
 "nbformat_minor": 5
}
