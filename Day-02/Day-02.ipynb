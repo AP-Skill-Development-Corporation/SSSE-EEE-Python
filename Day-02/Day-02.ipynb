{
 "cells": [
  {
   "cell_type": "markdown",
   "id": "6e2b7fb2",
   "metadata": {},
   "source": [
    "## Python Basics"
   ]
  },
  {
   "cell_type": "markdown",
   "id": "6889bc63",
   "metadata": {},
   "source": [
    "### Variable:\n",
    "    - To Store a value\n",
    "    - To Change a value\n",
    "    Syntax:\n",
    "        variablename = value"
   ]
  },
  {
   "cell_type": "code",
   "execution_count": 1,
   "id": "43df470d",
   "metadata": {},
   "outputs": [
    {
     "data": {
      "text/plain": [
       "45"
      ]
     },
     "execution_count": 1,
     "metadata": {},
     "output_type": "execute_result"
    }
   ],
   "source": [
    "w = 45\n",
    "w"
   ]
  },
  {
   "cell_type": "code",
   "execution_count": 2,
   "id": "56455a10",
   "metadata": {},
   "outputs": [
    {
     "data": {
      "text/plain": [
       "12.0121"
      ]
     },
     "execution_count": 2,
     "metadata": {},
     "output_type": "execute_result"
    }
   ],
   "source": [
    "k = 12.0121\n",
    "k"
   ]
  },
  {
   "cell_type": "code",
   "execution_count": 3,
   "id": "92877445",
   "metadata": {},
   "outputs": [
    {
     "data": {
      "text/plain": [
       "45"
      ]
     },
     "execution_count": 3,
     "metadata": {},
     "output_type": "execute_result"
    }
   ],
   "source": [
    "w"
   ]
  },
  {
   "cell_type": "code",
   "execution_count": 4,
   "id": "2f16671c",
   "metadata": {},
   "outputs": [
    {
     "data": {
      "text/plain": [
       "12.0121"
      ]
     },
     "execution_count": 4,
     "metadata": {},
     "output_type": "execute_result"
    }
   ],
   "source": [
    "k"
   ]
  },
  {
   "cell_type": "code",
   "execution_count": 5,
   "id": "e34ae015",
   "metadata": {},
   "outputs": [
    {
     "data": {
      "text/plain": [
       "12.0121"
      ]
     },
     "execution_count": 5,
     "metadata": {},
     "output_type": "execute_result"
    }
   ],
   "source": [
    "w\n",
    "k"
   ]
  },
  {
   "cell_type": "code",
   "execution_count": 6,
   "id": "7027baf2",
   "metadata": {},
   "outputs": [
    {
     "data": {
      "text/plain": [
       "45"
      ]
     },
     "execution_count": 6,
     "metadata": {},
     "output_type": "execute_result"
    }
   ],
   "source": [
    "k\n",
    "w"
   ]
  },
  {
   "cell_type": "code",
   "execution_count": 7,
   "id": "54b779c2",
   "metadata": {},
   "outputs": [
    {
     "data": {
      "text/plain": [
       "(12.0121, 45)"
      ]
     },
     "execution_count": 7,
     "metadata": {},
     "output_type": "execute_result"
    }
   ],
   "source": [
    "k,w"
   ]
  },
  {
   "cell_type": "markdown",
   "id": "4ab98250",
   "metadata": {},
   "source": [
    "## Variable Asignments:\n",
    "    - single variable = single value\n",
    "    - n number of variables = n number of values\n",
    "    - n number of variables = single value"
   ]
  },
  {
   "cell_type": "code",
   "execution_count": 8,
   "id": "9f651b21",
   "metadata": {},
   "outputs": [
    {
     "data": {
      "text/plain": [
       "(12, 56.0121)"
      ]
     },
     "execution_count": 8,
     "metadata": {},
     "output_type": "execute_result"
    }
   ],
   "source": [
    "a,b = 12,56.0121\n",
    "a,b"
   ]
  },
  {
   "cell_type": "markdown",
   "id": "05005331",
   "metadata": {},
   "source": [
    "## Data Types:\n",
    "    - int => It stores only Numbers\n",
    "    - float => It stores numbers and decimal values\n",
    "    - string => enclosed with ' or \"\n",
    "    - complex => real and imaginary\n",
    "    - boolean => True or False\n",
    "    - None => None\n",
    "    - All Data Structures [list,tuple,set and dictionary]"
   ]
  },
  {
   "cell_type": "code",
   "execution_count": 10,
   "id": "3265879b",
   "metadata": {},
   "outputs": [
    {
     "data": {
      "text/plain": [
       "(12, 532.0, True, (4+3j), None, '5', 'Kalyan')"
      ]
     },
     "execution_count": 10,
     "metadata": {},
     "output_type": "execute_result"
    }
   ],
   "source": [
    "q,w,e,r,t,y,u = 12,532.0,True,4+3j,None,'5',\"Kalyan\"\n",
    "q,w,e,r,t,y,u"
   ]
  },
  {
   "cell_type": "code",
   "execution_count": 11,
   "id": "7f843a41",
   "metadata": {},
   "outputs": [
    {
     "ename": "ValueError",
     "evalue": "too many values to unpack (expected 7)",
     "output_type": "error",
     "traceback": [
      "\u001b[1;31m---------------------------------------------------------------------------\u001b[0m",
      "\u001b[1;31mValueError\u001b[0m                                Traceback (most recent call last)",
      "Cell \u001b[1;32mIn[11], line 1\u001b[0m\n\u001b[1;32m----> 1\u001b[0m q,w,e,r,t,y,u \u001b[38;5;241m=\u001b[39m \u001b[38;5;241m12\u001b[39m,\u001b[38;5;241m532.0\u001b[39m,\u001b[38;5;28;01mTrue\u001b[39;00m,\u001b[38;5;241m4\u001b[39m\u001b[38;5;241m+\u001b[39m\u001b[38;5;241m3\u001b[39mj,\u001b[38;5;28;01mNone\u001b[39;00m,\u001b[38;5;124m'\u001b[39m\u001b[38;5;124m5\u001b[39m\u001b[38;5;124m'\u001b[39m,\u001b[38;5;124m\"\u001b[39m\u001b[38;5;124mKalyan\u001b[39m\u001b[38;5;124m\"\u001b[39m,\u001b[38;5;241m78\u001b[39m\n\u001b[0;32m      2\u001b[0m q,w,e,r,t,y,u\n",
      "\u001b[1;31mValueError\u001b[0m: too many values to unpack (expected 7)"
     ]
    }
   ],
   "source": [
    "q,w,e,r,t,y,u = 12,532.0,True,4+3j,None,'5',\"Kalyan\",78\n",
    "q,w,e,r,t,y,u"
   ]
  },
  {
   "cell_type": "code",
   "execution_count": 12,
   "id": "80957f1a",
   "metadata": {},
   "outputs": [
    {
     "ename": "ValueError",
     "evalue": "not enough values to unpack (expected 7, got 6)",
     "output_type": "error",
     "traceback": [
      "\u001b[1;31m---------------------------------------------------------------------------\u001b[0m",
      "\u001b[1;31mValueError\u001b[0m                                Traceback (most recent call last)",
      "Cell \u001b[1;32mIn[12], line 1\u001b[0m\n\u001b[1;32m----> 1\u001b[0m q,w,e,r,t,y,u \u001b[38;5;241m=\u001b[39m \u001b[38;5;241m12\u001b[39m,\u001b[38;5;241m532.0\u001b[39m,\u001b[38;5;28;01mTrue\u001b[39;00m,\u001b[38;5;241m4\u001b[39m\u001b[38;5;241m+\u001b[39m\u001b[38;5;241m3\u001b[39mj,\u001b[38;5;28;01mNone\u001b[39;00m,\u001b[38;5;124m'\u001b[39m\u001b[38;5;124m5\u001b[39m\u001b[38;5;124m'\u001b[39m\n\u001b[0;32m      2\u001b[0m q,w,e,r,t,y,u\n",
      "\u001b[1;31mValueError\u001b[0m: not enough values to unpack (expected 7, got 6)"
     ]
    }
   ],
   "source": [
    "q,w,e,r,t,y,u = 12,532.0,True,4+3j,None,'5'\n",
    "q,w,e,r,t,y,u"
   ]
  },
  {
   "cell_type": "code",
   "execution_count": 13,
   "id": "787bee8b",
   "metadata": {},
   "outputs": [
    {
     "data": {
      "text/plain": [
       "(12, 532.0, True, (4+3j), None, '5', 'Kalyan')"
      ]
     },
     "execution_count": 13,
     "metadata": {},
     "output_type": "execute_result"
    }
   ],
   "source": [
    "q = 12,532.0,True,4+3j,None,'5',\"Kalyan\"\n",
    "q"
   ]
  },
  {
   "cell_type": "code",
   "execution_count": 14,
   "id": "7b24cb13",
   "metadata": {},
   "outputs": [
    {
     "data": {
      "text/plain": [
       "(520, 520, 520)"
      ]
     },
     "execution_count": 14,
     "metadata": {},
     "output_type": "execute_result"
    }
   ],
   "source": [
    "z = v = b = 520\n",
    "z,v,b"
   ]
  },
  {
   "cell_type": "code",
   "execution_count": 15,
   "id": "ca671cec",
   "metadata": {},
   "outputs": [
    {
     "data": {
      "text/plain": [
       "(2442038061488, 2442038061488, 2442038061488)"
      ]
     },
     "execution_count": 15,
     "metadata": {},
     "output_type": "execute_result"
    }
   ],
   "source": [
    "id(z),id(v),id(b)"
   ]
  },
  {
   "cell_type": "code",
   "execution_count": 16,
   "id": "30a8593d",
   "metadata": {},
   "outputs": [
    {
     "name": "stdout",
     "output_type": "stream",
     "text": [
      "45\n"
     ]
    },
    {
     "data": {
      "text/plain": [
       "'45'"
      ]
     },
     "execution_count": 16,
     "metadata": {},
     "output_type": "execute_result"
    }
   ],
   "source": [
    "w = '45'\n",
    "print(w)\n",
    "w"
   ]
  },
  {
   "cell_type": "markdown",
   "id": "37e61c6b",
   "metadata": {},
   "source": [
    "### Type:\n",
    "    - To know the data type of a variable\n",
    "    Syntax:\n",
    "        type(variablename)"
   ]
  },
  {
   "cell_type": "code",
   "execution_count": 17,
   "id": "12b81ee4",
   "metadata": {},
   "outputs": [
    {
     "name": "stdout",
     "output_type": "stream",
     "text": [
      "12 <class 'int'>\n",
      "45.0 <class 'float'>\n",
      "False <class 'bool'>\n",
      "None <class 'NoneType'>\n",
      "(7+5j) <class 'complex'>\n",
      "Jagadeesh <class 'str'>\n"
     ]
    }
   ],
   "source": [
    "a,b,c,d,e,f = 12,45.000,False,None,7+5j,'Jagadeesh'\n",
    "print(a,type(a))\n",
    "print(b,type(b))\n",
    "print(c,type(c))\n",
    "print(d,type(d))\n",
    "print(e,type(e))\n",
    "print(f,type(f))"
   ]
  },
  {
   "cell_type": "markdown",
   "id": "ca482152",
   "metadata": {},
   "source": [
    "## Input Formatting:\n",
    "    - By default it stores string data type value\n",
    "    - It can displays an info to a user\n",
    "    - It can reads a value from a user\n",
    "    Syntax:\n",
    "       variablename = input(\"Something Info\")"
   ]
  },
  {
   "cell_type": "code",
   "execution_count": 3,
   "id": "5392570c",
   "metadata": {},
   "outputs": [
    {
     "name": "stdout",
     "output_type": "stream",
     "text": [
      "Enter a value: '907'\n",
      "'907' <class 'str'>\n"
     ]
    }
   ],
   "source": [
    "n = input(\"Enter a value: \")\n",
    "print(n,type(n))"
   ]
  },
  {
   "cell_type": "code",
   "execution_count": 4,
   "id": "95cf1387",
   "metadata": {},
   "outputs": [
    {
     "data": {
      "text/plain": [
       "int"
      ]
     },
     "execution_count": 4,
     "metadata": {},
     "output_type": "execute_result"
    }
   ],
   "source": [
    "q = 50\n",
    "type(q)"
   ]
  },
  {
   "cell_type": "code",
   "execution_count": 5,
   "id": "2b55d114",
   "metadata": {},
   "outputs": [
    {
     "name": "stdout",
     "output_type": "stream",
     "text": [
      "<class 'int'>\n"
     ]
    }
   ],
   "source": [
    "print(type(q))"
   ]
  },
  {
   "cell_type": "code",
   "execution_count": null,
   "id": "a42459d0",
   "metadata": {},
   "outputs": [],
   "source": [
    "Addition of ? and ? is: ?"
   ]
  },
  {
   "cell_type": "code",
   "execution_count": 6,
   "id": "d9eb1580",
   "metadata": {},
   "outputs": [
    {
     "data": {
      "text/plain": [
       "(56, 2.3)"
      ]
     },
     "execution_count": 6,
     "metadata": {},
     "output_type": "execute_result"
    }
   ],
   "source": [
    "a,b=56,2.3\n",
    "a,b"
   ]
  },
  {
   "cell_type": "markdown",
   "id": "aa02f1ed",
   "metadata": {},
   "source": [
    "### Output Formatting:\n",
    "    - , +\n",
    "    - (%)format specifier\n",
    "    - .format\n",
    "    - f"
   ]
  },
  {
   "cell_type": "code",
   "execution_count": 13,
   "id": "08a2fd0d",
   "metadata": {},
   "outputs": [
    {
     "name": "stdout",
     "output_type": "stream",
     "text": [
      "Enter a value: 4\n",
      "Enter b value: 5\n",
      "Addition of 4 and 5 is: 45\n",
      "Addition of 4 and 5 is: 45\n",
      "Addition of 4 and 5 is: 45\n",
      "Addition of 4 and 5 is: 45\n",
      "Addition of 5 and 4 is: 45\n",
      "Addition of 4 and 5 is: 45\n"
     ]
    }
   ],
   "source": [
    "a = input(\"Enter a value: \")\n",
    "b = input(\"Enter b value: \")\n",
    "print(\"Addition of\",a,\"and\",b,\"is:\",a+b)\n",
    "print(\"Addition of \"+a+\" and \"+b+\" is: \"+(a+b))\n",
    "print(\"Addition of %s and %s is: %s\"%(a,b,a+b))\n",
    "print(\"Addition of {} and {} is: {}\".format(a,b,a+b))\n",
    "print(\"Addition of {1} and {0} is: {2}\".format(a,b,a+b))\n",
    "print(f\"Addition of {a} and {b} is: {a+b}\")"
   ]
  },
  {
   "cell_type": "markdown",
   "id": "32acd2f0",
   "metadata": {},
   "source": [
    "### Typecasting:\n",
    "    - To Change from one data type of a value to another data type\n",
    "    - int()\n",
    "    - float()\n",
    "    - str()\n",
    "    - complex()\n",
    "    - All Data Structures[list(),tuple(),set() and dict()]"
   ]
  },
  {
   "cell_type": "code",
   "execution_count": 15,
   "id": "54490768",
   "metadata": {},
   "outputs": [
    {
     "name": "stdout",
     "output_type": "stream",
     "text": [
      "Enter a value: 1\n",
      "Enter b value: 2\n",
      "Addition of 1 and 2 is: 3\n",
      "Addition of 1 and 2 is: 3\n",
      "Addition of 1 and 2 is: 3\n",
      "Addition of 1 and 2 is: 3\n",
      "Addition of 2 and 1 is: 3\n",
      "Addition of 1 and 2 is: 3\n"
     ]
    }
   ],
   "source": [
    "a = int(input(\"Enter a value: \"))\n",
    "b = int(input(\"Enter b value: \"))\n",
    "print(\"Addition of\",a,\"and\",b,\"is:\",a+b)\n",
    "print(\"Addition of \"+str(a)+\" and \"+str(b)+\" is: \"+str(a+b))\n",
    "print(\"Addition of %s and %s is: %s\"%(a,b,a+b))\n",
    "print(\"Addition of {} and {} is: {}\".format(a,b,a+b))\n",
    "print(\"Addition of {1} and {0} is: {2}\".format(a,b,a+b))\n",
    "print(f\"Addition of {a} and {b} is: {a+b}\")"
   ]
  },
  {
   "cell_type": "markdown",
   "id": "36e8de38",
   "metadata": {},
   "source": [
    "```\n",
    "    Task:\n",
    "    =====\n",
    "        Input:\n",
    "            Enter a value: ?\n",
    "            Enter b value: ?\n",
    "        Output:\n",
    "            Entered numbers are: ?,?\n",
    "            Entered numbers are '?' and '?'\n",
    "            Substration of '?' and '?.00' is: ?\n",
    "```"
   ]
  },
  {
   "cell_type": "code",
   "execution_count": 18,
   "id": "7f334659",
   "metadata": {},
   "outputs": [
    {
     "name": "stdout",
     "output_type": "stream",
     "text": [
      "Enter a value:8\n",
      "Enter b value:5\n",
      "Enter numbers are: 8,5\n",
      "Enter numbers are '8' and '5'\n",
      "Substraction of '8' and '5.00' is:3\n"
     ]
    }
   ],
   "source": [
    "a=int(input(\"Enter a value:\"))\n",
    "b=int(input(\"Enter b value:\"))\n",
    "print(\"Enter numbers are: {},{}\".format(a,b))\n",
    "print(\"Enter numbers are '{}' and '{}'\".format(a,b))\n",
    "print(\"Substraction of '{}' and '{}.00' is:{}\".format(a,b,(a-b)))"
   ]
  },
  {
   "cell_type": "markdown",
   "id": "8b77ea82",
   "metadata": {},
   "source": [
    "### Operators:\n",
    "    - Arithmetic => +,-,*,/,%,//,**\n",
    "    - Relational => !=,==,>=,<=,>,<\n",
    "    - Logical => AND,OR,NOT\n",
    "    - Bitwise => &,|,!,^,>>,<<\n",
    "    - Assignment => +=,-=,/=,*=,//=,%=,**=\n",
    "    - Membership => in,not in\n",
    "    - Identity => is,is not"
   ]
  },
  {
   "cell_type": "code",
   "execution_count": null,
   "id": "631faa6b",
   "metadata": {},
   "outputs": [],
   "source": []
  }
 ],
 "metadata": {
  "kernelspec": {
   "display_name": "Python 3 (ipykernel)",
   "language": "python",
   "name": "python3"
  },
  "language_info": {
   "codemirror_mode": {
    "name": "ipython",
    "version": 3
   },
   "file_extension": ".py",
   "mimetype": "text/x-python",
   "name": "python",
   "nbconvert_exporter": "python",
   "pygments_lexer": "ipython3",
   "version": "3.9.13"
  }
 },
 "nbformat": 4,
 "nbformat_minor": 5
}
