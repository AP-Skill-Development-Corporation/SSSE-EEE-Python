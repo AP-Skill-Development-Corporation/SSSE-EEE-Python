{
 "cells": [
  {
   "cell_type": "markdown",
   "id": "cef8847f",
   "metadata": {},
   "source": [
    "## Styling Text\n",
    "\n",
    "**Example for Bold**\n",
    "__Next Example for Bold__\n",
    "\n",
    "*Example for Italic*\n",
    "_Next Eaxmple for Italic_\n",
    "\n",
    "***All Bold and Italic***\n",
    "\n",
    "**All bold and *Nested* Italic**\n",
    "\n",
    "~~Example for Strike through~~"
   ]
  },
  {
   "cell_type": "markdown",
   "id": "5be9c0ef",
   "metadata": {},
   "source": [
    "## Quoting Text\n",
    "> Example for Quoting Text"
   ]
  },
  {
   "cell_type": "markdown",
   "id": "e3c6483f",
   "metadata": {},
   "source": [
    "## Quoting Code\n",
    "\n",
    "```Chapter-1\n",
    "Chapter-2```\n",
    "\n",
    "```Chapter-1 Chapter-2```"
   ]
  },
  {
   "cell_type": "markdown",
   "id": "5eb954b1",
   "metadata": {},
   "source": [
    "This is an Example for ``Quoting Code`` "
   ]
  },
  {
   "cell_type": "markdown",
   "id": "7fc8dee2",
   "metadata": {},
   "source": [
    "## Links\n",
    "\n",
    "Example for Links\n",
    "\n",
    "College Link [Click Here](https://www.sseptp.org/)"
   ]
  },
  {
   "cell_type": "markdown",
   "id": "f26c4569",
   "metadata": {},
   "source": [
    "## Relative Link\n",
    "\n",
    "Demo Python File [View](demo.py)\n",
    "\n",
    "Image [View](sample.jpeg)"
   ]
  },
  {
   "cell_type": "markdown",
   "id": "025d737c",
   "metadata": {},
   "source": [
    "## Images:\n",
    "\n",
    "![View](sample.jpeg)\n",
    "\n",
    "![Click](data:image/jpeg;base64,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)"
   ]
  },
  {
   "cell_type": "code",
   "execution_count": 2,
   "id": "c72b1ea0",
   "metadata": {},
   "outputs": [
    {
     "name": "stdout",
     "output_type": "stream",
     "text": [
      "20\n",
      "45\n",
      "4\n"
     ]
    }
   ],
   "source": [
    "a = 45\n",
    "b = 20\n",
    "print(a and b)\n",
    "print(b and a)\n",
    "print(a & b)"
   ]
  },
  {
   "cell_type": "code",
   "execution_count": 3,
   "id": "3b9c6d2d",
   "metadata": {},
   "outputs": [
    {
     "name": "stdout",
     "output_type": "stream",
     "text": [
      "45\n",
      "20\n",
      "61\n"
     ]
    }
   ],
   "source": [
    "print(a or b)\n",
    "print(b or a)\n",
    "print(a | b)"
   ]
  },
  {
   "cell_type": "code",
   "execution_count": 4,
   "id": "a4c8fe3a",
   "metadata": {},
   "outputs": [],
   "source": [
    "import keyword"
   ]
  },
  {
   "cell_type": "code",
   "execution_count": 5,
   "id": "2a7981ab",
   "metadata": {},
   "outputs": [
    {
     "name": "stdout",
     "output_type": "stream",
     "text": [
      "['__all__', '__builtins__', '__cached__', '__doc__', '__file__', '__loader__', '__name__', '__package__', '__spec__', 'iskeyword', 'issoftkeyword', 'kwlist', 'softkwlist']\n"
     ]
    }
   ],
   "source": [
    "print(dir(keyword))"
   ]
  },
  {
   "cell_type": "code",
   "execution_count": 7,
   "id": "3017f0fc",
   "metadata": {},
   "outputs": [
    {
     "name": "stdout",
     "output_type": "stream",
     "text": [
      "['False', 'None', 'True', '__peg_parser__', 'and', 'as', 'assert', 'async', 'await', 'break', 'class', 'continue', 'def', 'del', 'elif', 'else', 'except', 'finally', 'for', 'from', 'global', 'if', 'import', 'in', 'is', 'lambda', 'nonlocal', 'not', 'or', 'pass', 'raise', 'return', 'try', 'while', 'with', 'yield']\n",
      "36\n"
     ]
    }
   ],
   "source": [
    "print(keyword.kwlist)\n",
    "print(len(keyword.kwlist))"
   ]
  },
  {
   "cell_type": "markdown",
   "id": "e1aad080",
   "metadata": {},
   "source": [
    "## Coditional Statements:\n",
    "    - To Check Whether given condition is Either True or False\n",
    "    - if => single case\n",
    "    - if-else => 2 cases\n",
    "    - nested if => 3 or more cases\n",
    "    - elif => 3 pr more n number of cases but it executes based on preference"
   ]
  },
  {
   "cell_type": "markdown",
   "id": "b24e3706",
   "metadata": {},
   "source": [
    "## If\n",
    "    Syntax:\n",
    "        if condition:\n",
    "            //statements\n",
    "        () => Optional Cases"
   ]
  },
  {
   "cell_type": "code",
   "execution_count": 12,
   "id": "dbfcd4a1",
   "metadata": {},
   "outputs": [
    {
     "name": "stdout",
     "output_type": "stream",
     "text": [
      "Enter the number5\n"
     ]
    }
   ],
   "source": [
    "a=int(input(\"Enter the number\"))\n",
    "if(a>10):\n",
    "    print(\"Enter number is {} greater than 10\".format(a))"
   ]
  },
  {
   "cell_type": "code",
   "execution_count": 19,
   "id": "b8dc3205",
   "metadata": {},
   "outputs": [
    {
     "name": "stdout",
     "output_type": "stream",
     "text": [
      "Enter the number2\n",
      "Entered number 2 and 5x^3 is: 40\n"
     ]
    }
   ],
   "source": [
    "a=int(input(\"Enter the number\"))\n",
    "if a%2==0:\n",
    "    print(f\"Entered number {a} and 5x^3 is: {5*a**3}\")"
   ]
  },
  {
   "cell_type": "markdown",
   "id": "c45d2c1f",
   "metadata": {},
   "source": [
    "## if-else:\n",
    "    Syntax:\n",
    "        if condition:\n",
    "            //statement-1\n",
    "        else:\n",
    "            //statement-2\n",
    "        () => Optional"
   ]
  },
  {
   "cell_type": "code",
   "execution_count": 21,
   "id": "e4f1ea56",
   "metadata": {},
   "outputs": [
    {
     "name": "stdout",
     "output_type": "stream",
     "text": [
      "Enter a number: 8\n",
      "Entered number 8 is Even\n"
     ]
    }
   ],
   "source": [
    "m = int(input(\"Enter a number: \"))\n",
    "if m%2==0:\n",
    "    print(f\"Entered number {m} is Even\")\n",
    "else:\n",
    "    print(f\"Entered number {m} is Odd\")"
   ]
  },
  {
   "cell_type": "markdown",
   "id": "7a8658af",
   "metadata": {},
   "source": [
    "```\n",
    "    Task:\n",
    "    ====\n",
    "        Input:\n",
    "            6\n",
    "            2\n",
    "            9\n",
    "        Output:\n",
    "            Entered number is: 6\n",
    "            Expression of 4x^2+3y is: ?\n",
    "        Input:\n",
    "            3\n",
    "            2\n",
    "            7\n",
    "        Output:\n",
    "            Entered number is: 3\n",
    "            Expression of 3x^2+10y^2 is:?\n",
    "```"
   ]
  },
  {
   "cell_type": "code",
   "execution_count": 23,
   "id": "262fe12c",
   "metadata": {},
   "outputs": [
    {
     "name": "stdout",
     "output_type": "stream",
     "text": [
      "enter any number6\n",
      "enter any number2\n",
      "enter any number9\n",
      "entered number is:6\n",
      "expression of 4x^2+3y is:43\n"
     ]
    }
   ],
   "source": [
    "w=int(input(\"enter any number\"))\n",
    "x=int(input(\"enter any number\"))\n",
    "y=int(input(\"enter any number\"))\n",
    "if w%2==0:\n",
    "    print(\"entered number is:{}\".format(w))\n",
    "    print(\"expression of 4x^2+3y is:{}\".format(4*x**2+3*y))\n",
    "else:\n",
    "    print(\"entered number is:{}\".format(w))\n",
    "    print(\"expression of 3x^2+10y^2 is:{}\".format(3*x**2+10*y**2))"
   ]
  },
  {
   "cell_type": "markdown",
   "id": "6ab3529e",
   "metadata": {},
   "source": [
    "## Nested If:\n",
    "    Syntax:\n",
    "        if Condition-1:\n",
    "            if condition-2:\n",
    "                //statement-1\n",
    "            else:\n",
    "                //statement-2\n",
    "        else:\n",
    "            //statement-n\n",
    "        \n",
    "        else = () => Optional Cases"
   ]
  },
  {
   "cell_type": "markdown",
   "id": "c67b8437",
   "metadata": {},
   "source": [
    "```\n",
    "    Input:\n",
    "        Enter an Year: 2\n",
    "    Output:\n",
    "        Entered Year is 2nd year you are not belonging to 3rd Year\n",
    "    \n",
    "    Input:\n",
    "        Enter an Year: 3\n",
    "        Enter Branch: EEE\n",
    "        Enter Name: Suresh\n",
    "    Output:\n",
    "        Entered Year is 3rd Year\n",
    "        Entered Branch is EEE Your name is: Suresh\n",
    "    \n",
    "    Input:\n",
    "        Enter an Year: 3\n",
    "        Enter Branch: CSE\n",
    "    Output:\n",
    "        Entered Year is 3rd Year\n",
    "        Entered Branch is CSE\n",
    "```"
   ]
  },
  {
   "cell_type": "code",
   "execution_count": 31,
   "id": "a00fba2d",
   "metadata": {},
   "outputs": [
    {
     "name": "stdout",
     "output_type": "stream",
     "text": [
      "Enter an Year: 3\n",
      "Enter Branch: eee\n",
      "Enter Name: Dinesh\n",
      "Entered Year is 3rd Year\n",
      "Entered Branch is EEE Your name is: Dinesh\n"
     ]
    }
   ],
   "source": [
    "a = int(input(\"Enter an Year: \"))\n",
    "if a == 3:\n",
    "    b = input(\"Enter Branch: \")\n",
    "    if b == \"EEE\" or b == \"eee\":\n",
    "        n = input(\"Enter Name: \")\n",
    "        print(\"Entered Year is 3rd Year\")\n",
    "        print(f\"Entered Branch is EEE Your name is: {n}\")\n",
    "    else:\n",
    "        print(f\"Entered Branch is: {b}\")\n",
    "else:\n",
    "    print(f\"Entered Year is {a} Year not belonging to 3rd Year\")"
   ]
  },
  {
   "cell_type": "markdown",
   "id": "9b9e6c1d",
   "metadata": {},
   "source": [
    "## Elif:\n",
    "    Syntax:\n",
    "        if condition-1:\n",
    "            //statement-1\n",
    "        elif condition-2:\n",
    "            //statement-2\n",
    "            |          |\n",
    "        elif condition-n:\n",
    "            //statement-n\n",
    "        else:\n",
    "            //statement-(n-2)"
   ]
  },
  {
   "cell_type": "code",
   "execution_count": 34,
   "id": "191bbc0e",
   "metadata": {},
   "outputs": [
    {
     "name": "stdout",
     "output_type": "stream",
     "text": [
      "Enter a value: 10\n",
      "Entered number 10 is Less than 20\n"
     ]
    }
   ],
   "source": [
    "n = int(input(\"Enter a value: \"))\n",
    "if n>20 and n<50:\n",
    "    print(f\"Entered number {n} is in between range of 20 and 50\")\n",
    "elif n>20:\n",
    "    print(f\"Entered number {n} is Greater than 20\")\n",
    "else:\n",
    "    print(f\"Entered number {n} is Less than 20\")"
   ]
  },
  {
   "cell_type": "code",
   "execution_count": null,
   "id": "e6678d06",
   "metadata": {},
   "outputs": [],
   "source": []
  }
 ],
 "metadata": {
  "kernelspec": {
   "display_name": "Python 3 (ipykernel)",
   "language": "python",
   "name": "python3"
  },
  "language_info": {
   "codemirror_mode": {
    "name": "ipython",
    "version": 3
   },
   "file_extension": ".py",
   "mimetype": "text/x-python",
   "name": "python",
   "nbconvert_exporter": "python",
   "pygments_lexer": "ipython3",
   "version": "3.9.13"
  }
 },
 "nbformat": 4,
 "nbformat_minor": 5
}
